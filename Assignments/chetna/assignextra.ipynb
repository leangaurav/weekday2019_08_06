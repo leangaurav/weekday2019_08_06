{
 "cells": [
  {
   "cell_type": "code",
   "execution_count": 6,
   "metadata": {},
   "outputs": [
    {
     "name": "stdout",
     "output_type": "stream",
     "text": [
      "Enter temprature in fahrenhite : 78.8\n",
      "Temprature in Fahrenhite :  78.8 \n",
      " Temprature in Celcius :  25.999999999999996\n"
     ]
    }
   ],
   "source": [
    "# a1 : input temp in fahrenheit and print in celsius\n",
    "\n",
    "temp_f = float(input('Enter temprature in fahrenhite : '))\n",
    "temp_c = (temp_f - 32) / 1.8\n",
    "print('Temprature in Fahrenhite : ',temp_f,'\\n Temprature in Celcius : ',temp_c)"
   ]
  },
  {
   "cell_type": "code",
   "execution_count": 8,
   "metadata": {},
   "outputs": [
    {
     "name": "stdout",
     "output_type": "stream",
     "text": [
      "Enter a number :2\n",
      "Square :  4\n",
      "Cube :  8\n"
     ]
    }
   ],
   "source": [
    "# a2 : input number print its square and cube\n",
    "\n",
    "numb = int(input('Enter a number :'))\n",
    "print('Square : ',numb*numb)\n",
    "print('Cube : ',numb*numb*numb)"
   ]
  },
  {
   "cell_type": "code",
   "execution_count": 11,
   "metadata": {},
   "outputs": [
    {
     "name": "stdout",
     "output_type": "stream",
     "text": [
      "Enter a number : 3\n",
      "Enter another number : 4\n",
      "25\n"
     ]
    }
   ],
   "source": [
    "# a3 : input m and n and print m^2 +n^2\n",
    "\n",
    "n = int(input('Enter a number : '))\n",
    "m = int(input('Enter another number : '))\n",
    "print(n*n+m*m)"
   ]
  },
  {
   "cell_type": "code",
   "execution_count": 13,
   "metadata": {},
   "outputs": [
    {
     "name": "stdout",
     "output_type": "stream",
     "text": [
      "Enter a number : 12\n",
      "Enter another number : 6\n",
      "2176782336\n",
      "2176782336\n"
     ]
    }
   ],
   "source": [
    "# a4 : input m and n and print m^n (use ** and pow)\n",
    "\n",
    "n = int(input('Enter a number : '))\n",
    "m = int(input('Enter another number : '))\n",
    "print(m**n)\n",
    "print(pow(m,n))"
   ]
  },
  {
   "cell_type": "code",
   "execution_count": 14,
   "metadata": {},
   "outputs": [
    {
     "name": "stdout",
     "output_type": "stream",
     "text": [
      "Enter principle : 1000\n",
      "Enter time : 2\n",
      "Enter rate : 5\n",
      "Simple Intrest :  100.0\n"
     ]
    }
   ],
   "source": [
    "# a5 : write a simple intrest program\n",
    "\n",
    "p = int(input('Enter principle : '))\n",
    "t = int(input('Enter time : '))\n",
    "r = int(input('Enter rate : '))\n",
    "si = (p*t*r)/100\n",
    "print('Simple Intrest : ',si)"
   ]
  },
  {
   "cell_type": "code",
   "execution_count": 16,
   "metadata": {},
   "outputs": [
    {
     "name": "stdout",
     "output_type": "stream",
     "text": [
      "Enter principle : 1000\n",
      "Enter time : 2\n",
      "Enter rate : 3\n",
      "Compound Intrest :  1060.8999999999999\n"
     ]
    }
   ],
   "source": [
    "# a6 : input p,t,r and print compound intrest and amount\n",
    "\n",
    "p = int(input('Enter principle : '))\n",
    "t = int(input('Enter time : '))\n",
    "r = int(input('Enter rate : '))\n",
    "ci = p * pow((1 + r / 100), t)\n",
    "print('Compound Intrest : ',ci)"
   ]
  },
  {
   "cell_type": "code",
   "execution_count": 21,
   "metadata": {},
   "outputs": [
    {
     "name": "stdout",
     "output_type": "stream",
     "text": [
      "Enter a number : 5\n",
      "15\n"
     ]
    }
   ],
   "source": [
    "# a7 : print sum of first n natural numbers \n",
    "\n",
    "numb = int(input('Enter a number : '))\n",
    "c = 0\n",
    "for i in range(numb+1) :\n",
    "    c = c + i\n",
    "print(c)"
   ]
  },
  {
   "cell_type": "code",
   "execution_count": 22,
   "metadata": {},
   "outputs": [
    {
     "name": "stdout",
     "output_type": "stream",
     "text": [
      "Enter a number : 2\n",
      "Enter another number : 3\n",
      "n1 :  2\n",
      "n2 :  3\n",
      "n1 :  3\n",
      "n2 :  2\n"
     ]
    }
   ],
   "source": [
    "# a8 : input 2 numbers and swap them \n",
    "n1 = int(input('Enter a number : '))\n",
    "n2 = int(input('Enter another number : '))\n",
    "print('n1 : ',n1)\n",
    "print('n2 : ',n2)\n",
    "n1,n2 = n2,n1\n",
    "print('n1 : ',n1)\n",
    "print('n2 : ',n2)"
   ]
  },
  {
   "cell_type": "code",
   "execution_count": 23,
   "metadata": {},
   "outputs": [
    {
     "name": "stdout",
     "output_type": "stream",
     "text": [
      "Enter a number : 2\n",
      "Enter another number : 3\n",
      "n1 :  2\n",
      "n2 :  3\n",
      "n1 :  3\n",
      "n2 :  2\n"
     ]
    }
   ],
   "source": [
    "n1 = int(input('Enter a number : '))\n",
    "n2 = int(input('Enter another number : '))\n",
    "print('n1 : ',n1)\n",
    "print('n2 : ',n2)\n",
    "temp = n1\n",
    "n1 = n2\n",
    "n2 = temp\n",
    "print('n1 : ',n1)\n",
    "print('n2 : ',n2)"
   ]
  },
  {
   "cell_type": "code",
   "execution_count": 25,
   "metadata": {},
   "outputs": [
    {
     "name": "stdout",
     "output_type": "stream",
     "text": [
      "Enter a number : 2\n",
      "Enter another number : 3\n",
      "n1 :  2\n",
      "n2 :  3\n",
      "n1 :  3\n",
      "n2 :  2\n"
     ]
    }
   ],
   "source": [
    "n1 = int(input('Enter a number : '))\n",
    "n2 = int(input('Enter another number : '))\n",
    "print('n1 : ',n1)\n",
    "print('n2 : ',n2)\n",
    "n1 = n1 + n2\n",
    "n2 = n1 - n2\n",
    "n1 = n1 - n2\n",
    "print('n1 : ',n1)\n",
    "print('n2 : ',n2)"
   ]
  },
  {
   "cell_type": "code",
   "execution_count": 36,
   "metadata": {},
   "outputs": [
    {
     "name": "stdout",
     "output_type": "stream",
     "text": [
      "32\n",
      "10\n",
      "9\n",
      "32\n"
     ]
    }
   ],
   "source": [
    "# a9 : print ascii value of all white spaces in python\n",
    "\n",
    "print(ord(' '))\n",
    "print(ord('\\n'))\n",
    "print(ord('\\t'))"
   ]
  },
  {
   "cell_type": "code",
   "execution_count": 42,
   "metadata": {},
   "outputs": [
    {
     "name": "stdout",
     "output_type": "stream",
     "text": [
      "Enter a single charactera\n",
      "ASCII value of  a is   97\n"
     ]
    }
   ],
   "source": [
    "# a10 : input a single character and print its ascii value \n",
    "s = input('Enter a single character')\n",
    "if len(s) == 1:\n",
    "    print('ASCII value of ',s,'is  ',ord(s))\n",
    "else :\n",
    "    print('---Enter only single character---')"
   ]
  },
  {
   "cell_type": "code",
   "execution_count": 3,
   "metadata": {},
   "outputs": [
    {
     "name": "stdout",
     "output_type": "stream",
     "text": [
      "Enter area of circle : 24\n",
      "Radis :  2.7646540655045486\n",
      "Circumference :  17.362027531368565\n"
     ]
    }
   ],
   "source": [
    "# a11 : input area of circle and gives back radius and circumferecne\n",
    "\n",
    "area_c = float (input('Enter area of circle : '))\n",
    "r = (area_c /3.14) ** 0.5\n",
    "c = 2*3.14*r\n",
    "print('Radius : ',r)\n",
    "print('Circumference : ',c)"
   ]
  },
  {
   "cell_type": "code",
   "execution_count": 3,
   "metadata": {},
   "outputs": [
    {
     "name": "stdout",
     "output_type": "stream",
     "text": [
      "Enter m1 : 60\n",
      "Enter m2 : 70\n",
      "Enter m3 : 80\n",
      "Enter m4 : 90\n",
      "Enter m5 : 60\n",
      "Percentage :  72.0\n"
     ]
    }
   ],
   "source": [
    "# a12 : input 5 subject marks out of 100 and calculate percentage \n",
    " \n",
    "m1 = int(input('Enter m1 : '))\n",
    "m2 = int(input('Enter m2 : '))\n",
    "m3 = int(input('Enter m3 : '))\n",
    "m4 = int(input('Enter m4 : '))\n",
    "m5 = int(input('Enter m5 : '))\n",
    "\n",
    "per = (m1+m2+m3+m4+m5)/5\n",
    "print('Percentage : ', per)"
   ]
  },
  {
   "cell_type": "code",
   "execution_count": null,
   "metadata": {},
   "outputs": [],
   "source": []
  }
 ],
 "metadata": {
  "kernelspec": {
   "display_name": "Python 3",
   "language": "python",
   "name": "python3"
  },
  "language_info": {
   "codemirror_mode": {
    "name": "ipython",
    "version": 3
   },
   "file_extension": ".py",
   "mimetype": "text/x-python",
   "name": "python",
   "nbconvert_exporter": "python",
   "pygments_lexer": "ipython3",
   "version": "3.7.3"
  }
 },
 "nbformat": 4,
 "nbformat_minor": 2
}
