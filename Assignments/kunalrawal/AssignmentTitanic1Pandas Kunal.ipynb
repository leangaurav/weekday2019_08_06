{
 "cells": [
  {
   "cell_type": "markdown",
   "metadata": {},
   "source": [
    "|Variable|Definition|Key|\n",
    "|---|---|---|\n",
    "|survival|Survival|0 = No, 1 = Yes|\n",
    "|pclass|Ticket class|1 = 1st, 2 = 2nd, 3 = 3rd|\n",
    "|gender|gender ||\n",
    "|Age |Age in years| |\n",
    "|sibsp |number of siblings / spouses aboard|\t|\n",
    "|parch |number of parents / children aboard| |\n",
    "|ticket|Ticket number ||\n",
    "|fare | fare| \t|\n",
    "|cabin |Cabin number|\t|\n",
    "|embarked|Port of Embarkation|C = Cherbourg, Q = Queenstown, S = Southampton|\n",
    "|boat | Lifeboat||\n",
    "|body | Body Identification Number||\n",
    "|home.dest| Home/destination||"
   ]
  },
  {
   "cell_type": "markdown",
   "metadata": {},
   "source": []
  },
  {
   "cell_type": "markdown",
   "metadata": {},
   "source": [
    "- Read data and describe it\n",
    "- Find columns with missingdata\n",
    "- Print shape of dataset\n",
    "- drop columns with more than 25% missing data\n",
    "- drop columns having independent values(which do not affect the survival rate).\n",
    "- check data types of all columns\n",
    "- convert price to numeric\n",
    "- find columns still having missing/na values and also count of missing data\n",
    "- fill na with mean for fare and age column column.\n",
    "- drop na values for embarked column.\n",
    "- dump the dataframe to a csv file 'titanic_filtered.csv'.\n",
    "\n",
    "\n",
    "- for surviced column replace 0 with D and 1 with A\n",
    "- find the frequency of different values in survived column\n",
    "- group by gender and survived and see the counts in each category\n",
    "- find different pclass and no of people in each class\n",
    "\n",
    "- find top 5 people with highest values of age. Count no of male and females in the top 5\n",
    "- find max age male and female who survived\n",
    "- get average age by gender\n",
    "- get average age by people survived vs not-survived"
   ]
  },
  {
   "cell_type": "code",
   "execution_count": 1,
   "metadata": {},
   "outputs": [
    {
     "name": "stdout",
     "output_type": "stream",
     "text": [
      "         Unnamed: 0       pclass     survived              name gender  \\\n",
      "count   1309.000000  1309.000000  1309.000000              1309   1309   \n",
      "unique          NaN          NaN          NaN              1307      2   \n",
      "top             NaN          NaN          NaN  Kelly, Mr. James   male   \n",
      "freq            NaN          NaN          NaN                 2    843   \n",
      "mean     654.000000     2.294882     0.381971               NaN    NaN   \n",
      "std      378.020061     0.837836     0.486055               NaN    NaN   \n",
      "min        0.000000     1.000000     0.000000               NaN    NaN   \n",
      "25%      327.000000     2.000000     0.000000               NaN    NaN   \n",
      "50%      654.000000     3.000000     0.000000               NaN    NaN   \n",
      "75%      981.000000     3.000000     1.000000               NaN    NaN   \n",
      "max     1308.000000     3.000000     1.000000               NaN    NaN   \n",
      "\n",
      "                age        sibsp        parch    ticket    fare        cabin  \\\n",
      "count   1046.000000  1309.000000  1309.000000      1309    1308          295   \n",
      "unique          NaN          NaN          NaN       929     263          186   \n",
      "top             NaN          NaN          NaN  CA. 2343  $8.05   C23 C25 C27   \n",
      "freq            NaN          NaN          NaN        11      60            6   \n",
      "mean      29.881135     0.498854     0.385027       NaN     NaN          NaN   \n",
      "std       14.413500     1.041658     0.865560       NaN     NaN          NaN   \n",
      "min        0.166700     0.000000     0.000000       NaN     NaN          NaN   \n",
      "25%       21.000000     0.000000     0.000000       NaN     NaN          NaN   \n",
      "50%       28.000000     0.000000     0.000000       NaN     NaN          NaN   \n",
      "75%       39.000000     1.000000     0.000000       NaN     NaN          NaN   \n",
      "max       80.000000     8.000000     9.000000       NaN     NaN          NaN   \n",
      "\n",
      "       embarked boat        body     home.dest  \n",
      "count      1307  486  121.000000           745  \n",
      "unique        3   27         NaN           369  \n",
      "top           S   13         NaN  New York, NY  \n",
      "freq        914   39         NaN            64  \n",
      "mean        NaN  NaN  160.809917           NaN  \n",
      "std         NaN  NaN   97.696922           NaN  \n",
      "min         NaN  NaN    1.000000           NaN  \n",
      "25%         NaN  NaN   72.000000           NaN  \n",
      "50%         NaN  NaN  155.000000           NaN  \n",
      "75%         NaN  NaN  256.000000           NaN  \n",
      "max         NaN  NaN  328.000000           NaN  \n"
     ]
    }
   ],
   "source": [
    "# Read data and describe it\n",
    "import pandas as pd\n",
    "import numpy as np\n",
    "df = pd.read_csv(r'C:\\jupyter\\titanic_dataset.csv')\n",
    "print(df.describe(include='all'))\n",
    "#print(df.pclass.is_unique)"
   ]
  },
  {
   "cell_type": "code",
   "execution_count": 2,
   "metadata": {},
   "outputs": [
    {
     "name": "stdout",
     "output_type": "stream",
     "text": [
      "False    8\n",
      "True     7\n",
      "dtype: int64\n",
      "15\n",
      "age\n",
      "fare\n",
      "cabin\n",
      "embarked\n",
      "boat\n",
      "body\n",
      "home.dest\n",
      "(1309, 15)\n"
     ]
    }
   ],
   "source": [
    "# Find columns with missingdata\n",
    "# Print shape of dataset\n",
    "print(df.isnull().any().value_counts())\n",
    "print(df.isnull().any().value_counts().sum())\n",
    "cols = df.columns\n",
    "for cols in df.columns:\n",
    "    if (df[cols].isnull().any()):\n",
    "        print(cols)\n",
    "print(df.shape)"
   ]
  },
  {
   "cell_type": "code",
   "execution_count": 3,
   "metadata": {},
   "outputs": [
    {
     "name": "stdout",
     "output_type": "stream",
     "text": [
      "Unnamed: 0      int64\n",
      "pclass          int64\n",
      "survived        int64\n",
      "name           object\n",
      "gender         object\n",
      "age           float64\n",
      "sibsp           int64\n",
      "parch           int64\n",
      "ticket         object\n",
      "fare           object\n",
      "embarked       object\n",
      "dtype: object\n"
     ]
    }
   ],
   "source": [
    "#drop columns with more than 25% missing data\n",
    "#print(df.isna().any())\n",
    "#print(df.isna().sum()/df.shape[0])\n",
    "df=df.loc[:, pd.notnull(df).sum()>len(df)*.75]\n",
    "#df.dropna(thresh=0.75*df.shape[0], axis=1)\n",
    "print(df.dtypes)"
   ]
  },
  {
   "cell_type": "code",
   "execution_count": 91,
   "metadata": {},
   "outputs": [
    {
     "data": {
      "text/plain": [
       "array([29.        ,  0.9167    ,  2.        , 30.        , 25.        ,\n",
       "       48.        , 63.        , 39.        , 53.        , 71.        ,\n",
       "       47.        , 18.        , 24.        , 26.        , 80.        ,\n",
       "       29.88113451, 50.        , 32.        , 36.        , 37.        ,\n",
       "       42.        , 19.        , 35.        , 28.        , 45.        ,\n",
       "       40.        , 58.        , 22.        , 41.        , 44.        ,\n",
       "       59.        , 60.        , 33.        , 17.        , 11.        ,\n",
       "       14.        , 49.        , 76.        , 46.        , 27.        ,\n",
       "       64.        , 55.        , 70.        , 38.        , 51.        ,\n",
       "       31.        ,  4.        , 54.        , 23.        , 43.        ,\n",
       "       52.        , 16.        , 32.5       , 21.        , 15.        ,\n",
       "       65.        , 28.5       , 45.5       , 56.        , 13.        ,\n",
       "       61.        , 34.        ,  6.        , 57.        , 62.        ,\n",
       "       67.        ,  1.        , 12.        , 20.        ,  0.8333    ,\n",
       "        8.        ,  0.6667    ,  7.        ,  3.        , 36.5       ,\n",
       "       18.5       ,  5.        , 66.        ,  9.        ,  0.75      ,\n",
       "       70.5       , 22.5       ,  0.3333    ,  0.1667    , 40.5       ,\n",
       "       10.        , 23.5       , 34.5       , 20.5       , 30.5       ,\n",
       "       55.5       , 38.5       , 14.5       , 24.5       , 60.5       ,\n",
       "       74.        ,  0.4167    , 11.5       , 26.5       ])"
      ]
     },
     "execution_count": 91,
     "metadata": {},
     "output_type": "execute_result"
    }
   ],
   "source": [
    "#drop columns having independent values(which do not affect the survival rate).\n",
    "df['age'].unique()\n",
    "#for cols in df.columns:\n",
    " #   if (df[cols].unique():\n",
    "  #      print(cols)\n",
    "#.unique().tolist()"
   ]
  },
  {
   "cell_type": "code",
   "execution_count": 4,
   "metadata": {},
   "outputs": [
    {
     "name": "stdout",
     "output_type": "stream",
     "text": [
      "<bound method NDFrame.head of 0       211.34\n",
      "1       151.55\n",
      "2       151.55\n",
      "3       151.55\n",
      "4       151.55\n",
      "5        26.55\n",
      "6        77.96\n",
      "7         0.00\n",
      "8        51.48\n",
      "9        49.50\n",
      "10      227.53\n",
      "11      227.53\n",
      "12       69.30\n",
      "13       78.85\n",
      "14       30.00\n",
      "15       25.93\n",
      "16      247.52\n",
      "17      247.52\n",
      "18       76.29\n",
      "19       75.24\n",
      "20       52.55\n",
      "21       52.55\n",
      "22       30.00\n",
      "23      227.53\n",
      "24      221.78\n",
      "25       26.00\n",
      "26       91.08\n",
      "27       91.08\n",
      "28      135.63\n",
      "29       26.55\n",
      "         ...  \n",
      "1279      7.85\n",
      "1280      7.90\n",
      "1281      9.00\n",
      "1282      8.05\n",
      "1283      7.55\n",
      "1284      8.05\n",
      "1285      9.50\n",
      "1286      7.23\n",
      "1287      7.75\n",
      "1288      6.50\n",
      "1289      6.50\n",
      "1290      7.00\n",
      "1291      8.71\n",
      "1292      7.55\n",
      "1293      8.05\n",
      "1294     16.10\n",
      "1295      7.25\n",
      "1296      8.66\n",
      "1297      7.25\n",
      "1298      9.50\n",
      "1299     14.45\n",
      "1300     14.45\n",
      "1301      7.23\n",
      "1302      7.23\n",
      "1303     14.46\n",
      "1304     14.45\n",
      "1305     14.45\n",
      "1306      7.23\n",
      "1307      7.23\n",
      "1308      7.88\n",
      "Name: fare, Length: 1309, dtype: float64> float64\n"
     ]
    }
   ],
   "source": [
    "#check data types of all columns\n",
    "df.dtypes\n",
    "#convert price to numeric\n",
    "col=df.fare.str.replace('$','')\n",
    "col=col.astype(float)\n",
    "print(col.head,col.dtype)\n",
    "\n",
    "#df.describe()\n",
    "df.fare=col"
   ]
  },
  {
   "cell_type": "code",
   "execution_count": 5,
   "metadata": {},
   "outputs": [
    {
     "name": "stdout",
     "output_type": "stream",
     "text": [
      "Unnamed: 0    False\n",
      "pclass        False\n",
      "survived      False\n",
      "name          False\n",
      "gender        False\n",
      "age            True\n",
      "sibsp         False\n",
      "parch         False\n",
      "ticket        False\n",
      "fare           True\n",
      "embarked       True\n",
      "dtype: bool\n",
      "0.20091673032849502\n",
      "0.0007639419404125286\n",
      "0.0015278838808250573\n",
      "The list of columns with any null values are  ['age', 'fare', 'embarked']\n"
     ]
    }
   ],
   "source": [
    "#find columns still having missing/na values and also count of missing data\n",
    "print(df.isna().any())\n",
    "k=list()\n",
    "for cols in df.columns:\n",
    "    if (df[cols].isnull().any()):\n",
    "        k.append(cols)\n",
    "        print(df[cols].isna().sum()/df.shape[0])\n",
    "print('The list of columns with any null values are ',k)"
   ]
  },
  {
   "cell_type": "code",
   "execution_count": 9,
   "metadata": {},
   "outputs": [],
   "source": [
    "#fill na with mean for fare and age column column.\n",
    "df.age.fillna(df.age.mean(),inplace=True)\n",
    "df.fare.fillna(df.fare.mean(),inplace=True)\n"
   ]
  },
  {
   "cell_type": "code",
   "execution_count": 10,
   "metadata": {},
   "outputs": [
    {
     "name": "stdout",
     "output_type": "stream",
     "text": [
      "Unnamed: 0    False\n",
      "pclass        False\n",
      "survived      False\n",
      "name          False\n",
      "gender        False\n",
      "age           False\n",
      "sibsp         False\n",
      "parch         False\n",
      "ticket        False\n",
      "fare          False\n",
      "embarked      False\n",
      "dtype: bool\n"
     ]
    }
   ],
   "source": [
    "#drop na values for embarked column\n",
    "df=df.dropna(subset=['embarked'])\n",
    "print(df.isna().any())\n",
    "#dump the dataframe to a csv file 'titanic_filtered.csv'.\n",
    "df.to_csv('titanic_filtered.csv')"
   ]
  },
  {
   "cell_type": "code",
   "execution_count": 97,
   "metadata": {},
   "outputs": [
    {
     "name": "stdout",
     "output_type": "stream",
     "text": [
      "D    809\n",
      "A    498\n",
      "Name: survived, dtype: int64\n",
      "D    0.618975\n",
      "A    0.381025\n",
      "Name: survived, dtype: float64\n"
     ]
    }
   ],
   "source": [
    "#- for surviced column replace 0 with D and 1 with A\n",
    "# find the frequency of different values in survived column\n",
    "print(df.survived.value_counts())\n",
    "survived = {0:'D',1:'A'}\n",
    "\n",
    "#df.survived = [survived[col] for col in df.survived]\n",
    "print(df.survived.value_counts()/df.shape[0])"
   ]
  },
  {
   "cell_type": "code",
   "execution_count": 98,
   "metadata": {},
   "outputs": [
    {
     "name": "stdout",
     "output_type": "stream",
     "text": [
      "3    709\n",
      "1    321\n",
      "2    277\n",
      "Name: pclass, dtype: int64\n"
     ]
    }
   ],
   "source": [
    "#find different pclass and no of people in each class\n",
    "print(df.pclass.value_counts())"
   ]
  },
  {
   "cell_type": "code",
   "execution_count": 102,
   "metadata": {},
   "outputs": [
    {
     "name": "stdout",
     "output_type": "stream",
     "text": [
      "      Unnamed: 0  pclass survived  \\\n",
      "14            14       1        A   \n",
      "61            61       1        A   \n",
      "1235        1235       3        D   \n",
      "135          135       1        D   \n",
      "9              9       1        D   \n",
      "\n",
      "                                                   name  gender   age  sibsp  \\\n",
      "14                 Barkworth, Mr. Algernon Henry Wilson    male  80.0      0   \n",
      "61    Cavendish, Mrs. Tyrell William (Julia Florence...  female  76.0      1   \n",
      "1235                                Svensson, Mr. Johan    male  74.0      0   \n",
      "135                           Goldschmidt, Mr. George B    male  71.0      0   \n",
      "9                               Artagaveytia, Mr. Ramon    male  71.0      0   \n",
      "\n",
      "      parch    ticket   fare embarked  \n",
      "14        0     27042  30.00        S  \n",
      "61        0     19877  78.85        S  \n",
      "1235      0    347060   7.78        S  \n",
      "135       0  PC 17754  34.65        C  \n",
      "9         0  PC 17609  49.50        C  \n",
      "male      4\n",
      "female    1\n",
      "Name: gender, dtype: int64\n"
     ]
    }
   ],
   "source": [
    "#find top 5 people with highest values of age. Count no of male and females in the top 5\n",
    "dfgenderAge = df.sort_values(by=['age'], ascending = False)\n",
    "dfgenderAge1 = dfgenderAge.head(5)\n",
    "print(dfgenderAge1)\n",
    "print(dfgenderAge1.gender.value_counts())\n"
   ]
  },
  {
   "cell_type": "code",
   "execution_count": 33,
   "metadata": {},
   "outputs": [
    {
     "name": "stdout",
     "output_type": "stream",
     "text": [
      "gender\n",
      "female    76.0\n",
      "male      80.0\n",
      "Name: age, dtype: float64\n"
     ]
    }
   ],
   "source": [
    "#find max age male and female who survived\n",
    "df1=df.survived==1\n",
    "df1=df[df1]\n",
    "k=df1.groupby(by=['gender'])\n",
    "a=k.age.max()\n",
    "print(a)"
   ]
  },
  {
   "cell_type": "code",
   "execution_count": 36,
   "metadata": {},
   "outputs": [
    {
     "name": "stdout",
     "output_type": "stream",
     "text": [
      "gender\n",
      "female    28.795931\n",
      "male      30.430716\n",
      "Name: age, dtype: float64\n"
     ]
    }
   ],
   "source": [
    "#get average age by gender\n",
    "k=df.groupby(by=['gender'])\n",
    "a=k.age.mean()\n",
    "print(a)"
   ]
  },
  {
   "cell_type": "code",
   "execution_count": 37,
   "metadata": {},
   "outputs": [
    {
     "name": "stdout",
     "output_type": "stream",
     "text": [
      "survived\n",
      "0    30.389368\n",
      "1    28.974711\n",
      "Name: age, dtype: float64\n"
     ]
    }
   ],
   "source": [
    "#get average age by people survived vs not-survived\n",
    "k=df.groupby(by=['survived'])\n",
    "a=k.age.mean()\n",
    "print(a)"
   ]
  },
  {
   "cell_type": "code",
   "execution_count": 105,
   "metadata": {},
   "outputs": [
    {
     "name": "stdout",
     "output_type": "stream",
     "text": [
      "male      843\n",
      "female    464\n",
      "Name: gender, dtype: int64\n"
     ]
    },
    {
     "data": {
      "text/plain": [
       "<matplotlib.axes._subplots.AxesSubplot at 0x2ded65eb358>"
      ]
     },
     "execution_count": 105,
     "metadata": {},
     "output_type": "execute_result"
    },
    {
     "data": {
      "image/png": "[encoded data removed]",
      "text/plain": [
       "<Figure size 432x288 with 1 Axes>"
      ]
     },
     "metadata": {
      "needs_background": "light"
     },
     "output_type": "display_data"
    }
   ],
   "source": [
    "r=df.gender.value_counts()\n",
    "print(r)\n",
    "r.plot(kind='bar')\n",
    "#plt.bar(r.index,r.values)"
   ]
  },
  {
   "cell_type": "code",
   "execution_count": 113,
   "metadata": {},
   "outputs": [
    {
     "data": {
      "image/png": "[encoded data removed]",
      "text/plain": [
       "<Figure size 432x288 with 1 Axes>"
      ]
     },
     "metadata": {},
     "output_type": "display_data"
    }
   ],
   "source": [
    "plt.pie(r,labels=r.index,shadow=True,explode=[0,0.1])\n",
    "plt.show()"
   ]
  },
  {
   "cell_type": "code",
   "execution_count": 110,
   "metadata": {},
   "outputs": [
    {
     "data": {
      "text/plain": [
       "<matplotlib.axes._subplots.AxesSubplot at 0x2ded69e0748>"
      ]
     },
     "execution_count": 110,
     "metadata": {},
     "output_type": "execute_result"
    },
    {
     "data": {
      "image/png": "[encoded data removed]",
      "text/plain": [
       "<Figure size 432x288 with 1 Axes>"
      ]
     },
     "metadata": {},
     "output_type": "display_data"
    }
   ],
   "source": [
    "r.plot(kind='pie')"
   ]
  },
  {
   "cell_type": "code",
   "execution_count": 118,
   "metadata": {},
   "outputs": [
    {
     "data": {
      "text/plain": [
       "<matplotlib.axes._subplots.AxesSubplot at 0x2ded8c9fcc0>"
      ]
     },
     "execution_count": 118,
     "metadata": {},
     "output_type": "execute_result"
    },
    {
     "data": {
      "image/png": "[encoded data removed]",
      "text/plain": [
       "<Figure size 432x288 with 1 Axes>"
      ]
     },
     "metadata": {
      "needs_background": "light"
     },
     "output_type": "display_data"
    }
   ],
   "source": [
    "df.age.plot(kind='box')"
   ]
  },
  {
   "cell_type": "code",
   "execution_count": 120,
   "metadata": {},
   "outputs": [
    {
     "data": {
      "image/png": "[encoded data removed]",
      "text/plain": [
       "<Figure size 432x288 with 1 Axes>"
      ]
     },
     "metadata": {
      "needs_background": "light"
     },
     "output_type": "display_data"
    }
   ],
   "source": [
    "plt.boxplot(df.age.values)\n",
    "plt.show()"
   ]
  },
  {
   "cell_type": "code",
   "execution_count": 125,
   "metadata": {},
   "outputs": [
    {
     "data": {
      "text/plain": [
       "<matplotlib.collections.PathCollection at 0x2ded8d11f28>"
      ]
     },
     "execution_count": 125,
     "metadata": {},
     "output_type": "execute_result"
    },
    {
     "data": {
      "image/png": "[encoded data removed]",
      "text/plain": [
       "<Figure size 432x288 with 1 Axes>"
      ]
     },
     "metadata": {
      "needs_background": "light"
     },
     "output_type": "display_data"
    }
   ],
   "source": [
    "plt.scatter(df.age.values,df.pclass.values)"
   ]
  },
  {
   "cell_type": "code",
   "execution_count": 22,
   "metadata": {},
   "outputs": [
    {
     "name": "stdout",
     "output_type": "stream",
     "text": [
      "Index(['Unnamed: 0', 'pclass', 'survived', 'name', 'gender', 'age', 'sibsp',\n",
      "       'parch', 'ticket', 'fare', 'cabin', 'embarked', 'boat', 'body',\n",
      "       'home.dest'],\n",
      "      dtype='object')\n",
      "Index(['Unnamed: 0', 'pclass', 'survived', 'name', 'gender', 'age', 'sibsp',\n",
      "       'parch', 'ticket', 'fare', 'embarked', 'boat', 'home.dest'],\n",
      "      dtype='object')\n"
     ]
    }
   ],
   "source": [
    "print(df.columns)\n",
    "print(df.dropna(axis=1,thresh=330).columns)"
   ]
  },
  {
   "cell_type": "code",
   "execution_count": 24,
   "metadata": {},
   "outputs": [
    {
     "data": {
      "text/html": [
       "<div>\n",
       "<style scoped>\n",
       "    .dataframe tbody tr th:only-of-type {\n",
       "        vertical-align: middle;\n",
       "    }\n",
       "\n",
       "    .dataframe tbody tr th {\n",
       "        vertical-align: top;\n",
       "    }\n",
       "\n",
       "    .dataframe thead th {\n",
       "        text-align: right;\n",
       "    }\n",
       "</style>\n",
       "<table border=\"1\" class=\"dataframe\">\n",
       "  <thead>\n",
       "    <tr style=\"text-align: right;\">\n",
       "      <th></th>\n",
       "      <th>Unnamed: 0</th>\n",
       "      <th>pclass</th>\n",
       "      <th>survived</th>\n",
       "      <th>age</th>\n",
       "      <th>sibsp</th>\n",
       "      <th>parch</th>\n",
       "      <th>body</th>\n",
       "    </tr>\n",
       "  </thead>\n",
       "  <tbody>\n",
       "    <tr>\n",
       "      <th>count</th>\n",
       "      <td>1309.000000</td>\n",
       "      <td>1309.000000</td>\n",
       "      <td>1309.000000</td>\n",
       "      <td>1046.000000</td>\n",
       "      <td>1309.000000</td>\n",
       "      <td>1309.000000</td>\n",
       "      <td>121.000000</td>\n",
       "    </tr>\n",
       "    <tr>\n",
       "      <th>mean</th>\n",
       "      <td>654.000000</td>\n",
       "      <td>2.294882</td>\n",
       "      <td>0.381971</td>\n",
       "      <td>29.881135</td>\n",
       "      <td>0.498854</td>\n",
       "      <td>0.385027</td>\n",
       "      <td>160.809917</td>\n",
       "    </tr>\n",
       "    <tr>\n",
       "      <th>std</th>\n",
       "      <td>378.020061</td>\n",
       "      <td>0.837836</td>\n",
       "      <td>0.486055</td>\n",
       "      <td>14.413500</td>\n",
       "      <td>1.041658</td>\n",
       "      <td>0.865560</td>\n",
       "      <td>97.696922</td>\n",
       "    </tr>\n",
       "    <tr>\n",
       "      <th>min</th>\n",
       "      <td>0.000000</td>\n",
       "      <td>1.000000</td>\n",
       "      <td>0.000000</td>\n",
       "      <td>0.166700</td>\n",
       "      <td>0.000000</td>\n",
       "      <td>0.000000</td>\n",
       "      <td>1.000000</td>\n",
       "    </tr>\n",
       "    <tr>\n",
       "      <th>25%</th>\n",
       "      <td>327.000000</td>\n",
       "      <td>2.000000</td>\n",
       "      <td>0.000000</td>\n",
       "      <td>21.000000</td>\n",
       "      <td>0.000000</td>\n",
       "      <td>0.000000</td>\n",
       "      <td>72.000000</td>\n",
       "    </tr>\n",
       "    <tr>\n",
       "      <th>50%</th>\n",
       "      <td>654.000000</td>\n",
       "      <td>3.000000</td>\n",
       "      <td>0.000000</td>\n",
       "      <td>28.000000</td>\n",
       "      <td>0.000000</td>\n",
       "      <td>0.000000</td>\n",
       "      <td>155.000000</td>\n",
       "    </tr>\n",
       "    <tr>\n",
       "      <th>75%</th>\n",
       "      <td>981.000000</td>\n",
       "      <td>3.000000</td>\n",
       "      <td>1.000000</td>\n",
       "      <td>39.000000</td>\n",
       "      <td>1.000000</td>\n",
       "      <td>0.000000</td>\n",
       "      <td>256.000000</td>\n",
       "    </tr>\n",
       "    <tr>\n",
       "      <th>max</th>\n",
       "      <td>1308.000000</td>\n",
       "      <td>3.000000</td>\n",
       "      <td>1.000000</td>\n",
       "      <td>80.000000</td>\n",
       "      <td>8.000000</td>\n",
       "      <td>9.000000</td>\n",
       "      <td>328.000000</td>\n",
       "    </tr>\n",
       "  </tbody>\n",
       "</table>\n",
       "</div>"
      ],
      "text/plain": [
       "        Unnamed: 0       pclass     survived          age        sibsp  \\\n",
       "count  1309.000000  1309.000000  1309.000000  1046.000000  1309.000000   \n",
       "mean    654.000000     2.294882     0.381971    29.881135     0.498854   \n",
       "std     378.020061     0.837836     0.486055    14.413500     1.041658   \n",
       "min       0.000000     1.000000     0.000000     0.166700     0.000000   \n",
       "25%     327.000000     2.000000     0.000000    21.000000     0.000000   \n",
       "50%     654.000000     3.000000     0.000000    28.000000     0.000000   \n",
       "75%     981.000000     3.000000     1.000000    39.000000     1.000000   \n",
       "max    1308.000000     3.000000     1.000000    80.000000     8.000000   \n",
       "\n",
       "             parch        body  \n",
       "count  1309.000000  121.000000  \n",
       "mean      0.385027  160.809917  \n",
       "std       0.865560   97.696922  \n",
       "min       0.000000    1.000000  \n",
       "25%       0.000000   72.000000  \n",
       "50%       0.000000  155.000000  \n",
       "75%       0.000000  256.000000  \n",
       "max       9.000000  328.000000  "
      ]
     },
     "execution_count": 24,
     "metadata": {},
     "output_type": "execute_result"
    }
   ],
   "source": [
    "df.head()\n",
    "df.describe()"
   ]
  },
  {
   "cell_type": "code",
   "execution_count": 26,
   "metadata": {},
   "outputs": [
    {
     "name": "stdout",
     "output_type": "stream",
     "text": [
      "False\n",
      "        Unnamed: 0       pclass     survived          age        sibsp  \\\n",
      "count  1309.000000  1309.000000  1309.000000  1309.000000  1309.000000   \n",
      "mean    654.000000     2.294882     0.381971    29.881135     0.498854   \n",
      "std     378.020061     0.837836     0.486055    12.883199     1.041658   \n",
      "min       0.000000     1.000000     0.000000     0.166700     0.000000   \n",
      "25%     327.000000     2.000000     0.000000    22.000000     0.000000   \n",
      "50%     654.000000     3.000000     0.000000    29.881135     0.000000   \n",
      "75%     981.000000     3.000000     1.000000    35.000000     1.000000   \n",
      "max    1308.000000     3.000000     1.000000    80.000000     8.000000   \n",
      "\n",
      "             parch        body  \n",
      "count  1309.000000  121.000000  \n",
      "mean      0.385027  160.809917  \n",
      "std       0.865560   97.696922  \n",
      "min       0.000000    1.000000  \n",
      "25%       0.000000   72.000000  \n",
      "50%       0.000000  155.000000  \n",
      "75%       0.000000  256.000000  \n",
      "max       9.000000  328.000000  \n"
     ]
    }
   ],
   "source": [
    "df.age.fillna(df.age.mean(),inplace=True)\n",
    "\n",
    "print(df.age.isna().any())\n",
    "print(df.describe())"
   ]
  },
  {
   "cell_type": "code",
   "execution_count": 36,
   "metadata": {},
   "outputs": [
    {
     "name": "stdout",
     "output_type": "stream",
     "text": [
      "<bound method NDFrame.head of 0       211.34\n",
      "1       151.55\n",
      "2       151.55\n",
      "3       151.55\n",
      "4       151.55\n",
      "5        26.55\n",
      "6        77.96\n",
      "7         0.00\n",
      "8        51.48\n",
      "9        49.50\n",
      "10      227.53\n",
      "11      227.53\n",
      "12       69.30\n",
      "13       78.85\n",
      "14       30.00\n",
      "15       25.93\n",
      "16      247.52\n",
      "17      247.52\n",
      "18       76.29\n",
      "19       75.24\n",
      "20       52.55\n",
      "21       52.55\n",
      "22       30.00\n",
      "23      227.53\n",
      "24      221.78\n",
      "25       26.00\n",
      "26       91.08\n",
      "27       91.08\n",
      "28      135.63\n",
      "29       26.55\n",
      "         ...  \n",
      "1279      7.85\n",
      "1280      7.90\n",
      "1281      9.00\n",
      "1282      8.05\n",
      "1283      7.55\n",
      "1284      8.05\n",
      "1285      9.50\n",
      "1286      7.23\n",
      "1287      7.75\n",
      "1288      6.50\n",
      "1289      6.50\n",
      "1290      7.00\n",
      "1291      8.71\n",
      "1292      7.55\n",
      "1293      8.05\n",
      "1294     16.10\n",
      "1295      7.25\n",
      "1296      8.66\n",
      "1297      7.25\n",
      "1298      9.50\n",
      "1299     14.45\n",
      "1300     14.45\n",
      "1301      7.23\n",
      "1302      7.23\n",
      "1303     14.46\n",
      "1304     14.45\n",
      "1305     14.45\n",
      "1306      7.23\n",
      "1307      7.23\n",
      "1308      7.88\n",
      "Name: fare, Length: 1309, dtype: float64> float64\n"
     ]
    }
   ],
   "source": [
    "#print(dir(df.fare.str))\n",
    "col=df.fare.str.replace('$','')\n",
    "col=col.astype(float)\n",
    "print(col.head,col.dtype)\n",
    "\n",
    "#df.describe()\n",
    "df.fare=col\n",
    "\n"
   ]
  },
  {
   "cell_type": "code",
   "execution_count": 38,
   "metadata": {},
   "outputs": [
    {
     "data": {
      "text/html": [
       "<div>\n",
       "<style scoped>\n",
       "    .dataframe tbody tr th:only-of-type {\n",
       "        vertical-align: middle;\n",
       "    }\n",
       "\n",
       "    .dataframe tbody tr th {\n",
       "        vertical-align: top;\n",
       "    }\n",
       "\n",
       "    .dataframe thead th {\n",
       "        text-align: right;\n",
       "    }\n",
       "</style>\n",
       "<table border=\"1\" class=\"dataframe\">\n",
       "  <thead>\n",
       "    <tr style=\"text-align: right;\">\n",
       "      <th></th>\n",
       "      <th>Unnamed: 0</th>\n",
       "      <th>pclass</th>\n",
       "      <th>survived</th>\n",
       "      <th>age</th>\n",
       "      <th>sibsp</th>\n",
       "      <th>parch</th>\n",
       "      <th>fare</th>\n",
       "      <th>body</th>\n",
       "    </tr>\n",
       "  </thead>\n",
       "  <tbody>\n",
       "    <tr>\n",
       "      <th>count</th>\n",
       "      <td>1309.000000</td>\n",
       "      <td>1309.000000</td>\n",
       "      <td>1309.000000</td>\n",
       "      <td>1046.000000</td>\n",
       "      <td>1309.000000</td>\n",
       "      <td>1309.000000</td>\n",
       "      <td>1309.000000</td>\n",
       "      <td>121.000000</td>\n",
       "    </tr>\n",
       "    <tr>\n",
       "      <th>mean</th>\n",
       "      <td>654.000000</td>\n",
       "      <td>2.294882</td>\n",
       "      <td>0.381971</td>\n",
       "      <td>29.881135</td>\n",
       "      <td>0.498854</td>\n",
       "      <td>0.385027</td>\n",
       "      <td>33.296261</td>\n",
       "      <td>160.809917</td>\n",
       "    </tr>\n",
       "    <tr>\n",
       "      <th>std</th>\n",
       "      <td>378.020061</td>\n",
       "      <td>0.837836</td>\n",
       "      <td>0.486055</td>\n",
       "      <td>14.413500</td>\n",
       "      <td>1.041658</td>\n",
       "      <td>0.865560</td>\n",
       "      <td>51.738902</td>\n",
       "      <td>97.696922</td>\n",
       "    </tr>\n",
       "    <tr>\n",
       "      <th>min</th>\n",
       "      <td>0.000000</td>\n",
       "      <td>1.000000</td>\n",
       "      <td>0.000000</td>\n",
       "      <td>0.166700</td>\n",
       "      <td>0.000000</td>\n",
       "      <td>0.000000</td>\n",
       "      <td>0.000000</td>\n",
       "      <td>1.000000</td>\n",
       "    </tr>\n",
       "    <tr>\n",
       "      <th>25%</th>\n",
       "      <td>327.000000</td>\n",
       "      <td>2.000000</td>\n",
       "      <td>0.000000</td>\n",
       "      <td>21.000000</td>\n",
       "      <td>0.000000</td>\n",
       "      <td>0.000000</td>\n",
       "      <td>7.900000</td>\n",
       "      <td>72.000000</td>\n",
       "    </tr>\n",
       "    <tr>\n",
       "      <th>50%</th>\n",
       "      <td>654.000000</td>\n",
       "      <td>3.000000</td>\n",
       "      <td>0.000000</td>\n",
       "      <td>28.000000</td>\n",
       "      <td>0.000000</td>\n",
       "      <td>0.000000</td>\n",
       "      <td>14.450000</td>\n",
       "      <td>155.000000</td>\n",
       "    </tr>\n",
       "    <tr>\n",
       "      <th>75%</th>\n",
       "      <td>981.000000</td>\n",
       "      <td>3.000000</td>\n",
       "      <td>1.000000</td>\n",
       "      <td>39.000000</td>\n",
       "      <td>1.000000</td>\n",
       "      <td>0.000000</td>\n",
       "      <td>31.280000</td>\n",
       "      <td>256.000000</td>\n",
       "    </tr>\n",
       "    <tr>\n",
       "      <th>max</th>\n",
       "      <td>1308.000000</td>\n",
       "      <td>3.000000</td>\n",
       "      <td>1.000000</td>\n",
       "      <td>80.000000</td>\n",
       "      <td>8.000000</td>\n",
       "      <td>9.000000</td>\n",
       "      <td>512.330000</td>\n",
       "      <td>328.000000</td>\n",
       "    </tr>\n",
       "  </tbody>\n",
       "</table>\n",
       "</div>"
      ],
      "text/plain": [
       "        Unnamed: 0       pclass     survived          age        sibsp  \\\n",
       "count  1309.000000  1309.000000  1309.000000  1046.000000  1309.000000   \n",
       "mean    654.000000     2.294882     0.381971    29.881135     0.498854   \n",
       "std     378.020061     0.837836     0.486055    14.413500     1.041658   \n",
       "min       0.000000     1.000000     0.000000     0.166700     0.000000   \n",
       "25%     327.000000     2.000000     0.000000    21.000000     0.000000   \n",
       "50%     654.000000     3.000000     0.000000    28.000000     0.000000   \n",
       "75%     981.000000     3.000000     1.000000    39.000000     1.000000   \n",
       "max    1308.000000     3.000000     1.000000    80.000000     8.000000   \n",
       "\n",
       "             parch         fare        body  \n",
       "count  1309.000000  1309.000000  121.000000  \n",
       "mean      0.385027    33.296261  160.809917  \n",
       "std       0.865560    51.738902   97.696922  \n",
       "min       0.000000     0.000000    1.000000  \n",
       "25%       0.000000     7.900000   72.000000  \n",
       "50%       0.000000    14.450000  155.000000  \n",
       "75%       0.000000    31.280000  256.000000  \n",
       "max       9.000000   512.330000  328.000000  "
      ]
     },
     "execution_count": 38,
     "metadata": {},
     "output_type": "execute_result"
    }
   ],
   "source": [
    "df.fare.fillna(df.fare.mean(),inplace=True)"
   ]
  },
  {
   "cell_type": "code",
   "execution_count": 41,
   "metadata": {},
   "outputs": [
    {
     "data": {
      "text/plain": [
       "Unnamed: 0      int64\n",
       "pclass          int64\n",
       "survived        int64\n",
       "name           object\n",
       "gender         object\n",
       "age           float64\n",
       "sibsp           int64\n",
       "parch           int64\n",
       "ticket         object\n",
       "fare          float64\n",
       "cabin          object\n",
       "embarked       object\n",
       "boat           object\n",
       "body          float64\n",
       "home.dest      object\n",
       "dtype: object"
      ]
     },
     "execution_count": 41,
     "metadata": {},
     "output_type": "execute_result"
    }
   ],
   "source": [
    "df.dtypes"
   ]
  },
  {
   "cell_type": "code",
   "execution_count": 42,
   "metadata": {},
   "outputs": [],
   "source": [
    "df.to_csv('titanic.csv')"
   ]
  },
  {
   "cell_type": "code",
   "execution_count": 11,
   "metadata": {},
   "outputs": [
    {
     "name": "stdout",
     "output_type": "stream",
     "text": [
      "      Unnamed: 0  pclass  survived  \\\n",
      "14            14       1         1   \n",
      "61            61       1         1   \n",
      "1235        1235       3         0   \n",
      "135          135       1         0   \n",
      "9              9       1         0   \n",
      "\n",
      "                                                   name  gender   age  sibsp  \\\n",
      "14                 Barkworth, Mr. Algernon Henry Wilson    male  80.0      0   \n",
      "61    Cavendish, Mrs. Tyrell William (Julia Florence...  female  76.0      1   \n",
      "1235                                Svensson, Mr. Johan    male  74.0      0   \n",
      "135                           Goldschmidt, Mr. George B    male  71.0      0   \n",
      "9                               Artagaveytia, Mr. Ramon    male  71.0      0   \n",
      "\n",
      "      parch    ticket   fare embarked  \n",
      "14        0     27042  30.00        S  \n",
      "61        0     19877  78.85        S  \n",
      "1235      0    347060   7.78        S  \n",
      "135       0  PC 17754  34.65        C  \n",
      "9         0  PC 17609  49.50        C  \n"
     ]
    }
   ],
   "source": [
    "res=df.sort_values(by = ['age'], ascending=False)\n",
    "print(res.head())"
   ]
  },
  {
   "cell_type": "code",
   "execution_count": 28,
   "metadata": {},
   "outputs": [
    {
     "name": "stdout",
     "output_type": "stream",
     "text": [
      "MultiIndex(levels=[['C', 'Q', 'S'], ['female', 'male']],\n",
      "           codes=[[0, 0, 1, 1, 2, 2], [0, 1, 0, 1, 0, 1]],\n",
      "           names=['embarked', 'gender'])\n",
      "embarked  gender\n",
      "C         female    31.046168\n",
      "          male      32.352264\n",
      "Q         female    28.112014\n",
      "          male      30.573047\n",
      "S         female    28.063141\n",
      "          male      29.932080\n",
      "Name: age, dtype: float64\n",
      "gender       female       male\n",
      "embarked                      \n",
      "C         31.046168  32.352264\n",
      "Q         28.112014  30.573047\n",
      "S         28.063141  29.932080\n"
     ]
    },
    {
     "data": {
      "image/png": "[encoded data removed]",
      "text/plain": [
       "<Figure size 432x288 with 1 Axes>"
      ]
     },
     "metadata": {
      "needs_background": "light"
     },
     "output_type": "display_data"
    }
   ],
   "source": [
    "g=df.groupby(by=['embarked','gender'])\n",
    "#print(g.groups)\n",
    "\n",
    "r=g.age.mean()\n",
    "print(r.index)\n",
    "print(r)\n",
    "print(r.unstack())\n",
    "import matplotlib.pyplot as plt\n",
    "r.unstack().plot(kind = 'bar',stacked='True')\n",
    "plt.show()"
   ]
  }
 ],
 "metadata": {
  "kernelspec": {
   "display_name": "Python 3",
   "language": "python",
   "name": "python3"
  },
  "language_info": {
   "codemirror_mode": {
    "name": "ipython",
    "version": 3
   },
   "file_extension": ".py",
   "mimetype": "text/x-python",
   "name": "python",
   "nbconvert_exporter": "python",
   "pygments_lexer": "ipython3",
   "version": "3.7.3"
  }
 },
 "nbformat": 4,
 "nbformat_minor": 2
}
