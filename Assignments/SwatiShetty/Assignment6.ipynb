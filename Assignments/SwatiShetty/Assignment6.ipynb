{
 "cells": [
  {
   "cell_type": "code",
   "execution_count": 3,
   "metadata": {},
   "outputs": [
    {
     "name": "stdout",
     "output_type": "stream",
     "text": [
      "Enter the value of num1: 100\n",
      "Enter the value of num2: 6\n",
      "num1 is not divisible by num2\n"
     ]
    }
   ],
   "source": [
    "num1 = int(input(\"Enter the value of num1: \"))\n",
    "num2 = int(input(\"Enter the value of num2: \"))\n",
    "\n",
    "if num1%num2==0:\n",
    "    print(\"num1 is divisible by num2\")\n",
    "else:\n",
    "    print(\"num1 is not divisible by num2\")\n",
    "    "
   ]
  },
  {
   "cell_type": "code",
   "execution_count": 11,
   "metadata": {},
   "outputs": [
    {
     "name": "stdout",
     "output_type": "stream",
     "text": [
      "Palindrome\n"
     ]
    }
   ],
   "source": [
    "str1 = \"Naman\"\n",
    "str2 = str1.upper()\n",
    "str2 = str2[::-1]\n",
    "if (str1.upper() == str2):\n",
    "    print(\"Palindrome\")\n",
    "else:\n",
    "    print(\"Not Palindrome\")"
   ]
  },
  {
   "cell_type": "code",
   "execution_count": 16,
   "metadata": {},
   "outputs": [
    {
     "name": "stdout",
     "output_type": "stream",
     "text": [
      "Enter the value of s1: 4\n",
      "Enter the value of s2: 7\n",
      "Enter the value of s3: 8\n",
      "Its a scalene traingle\n"
     ]
    }
   ],
   "source": [
    "s1 = int(input(\"Enter the value of s1: \"))\n",
    "s2 = int(input(\"Enter the value of s2: \"))\n",
    "s3 = int(input(\"Enter the value of s3: \"))\n",
    "\n",
    "if (s1==s2 and s2==s3 and s3==s1):\n",
    "    print(\"Its an equilateral triangle\")\n",
    "elif (s1==s2 or s2==s3 or s3==s1):\n",
    "    print(\"Its an isoceles traingle\")\n",
    "else:\n",
    "    print(\"Its a scalene traingle\")\n",
    "\n"
   ]
  },
  {
   "cell_type": "code",
   "execution_count": 18,
   "metadata": {},
   "outputs": [
    {
     "name": "stdout",
     "output_type": "stream",
     "text": [
      "Enter the a number: 20\n",
      "Given number is even\n"
     ]
    }
   ],
   "source": [
    "num = int(input(\"Enter the a number: \"))\n",
    "if num%2==0:\n",
    "    print(\"Given number is even\")\n",
    "else:\n",
    "    print(\"Given number is odd\")"
   ]
  },
  {
   "cell_type": "code",
   "execution_count": 21,
   "metadata": {},
   "outputs": [
    {
     "name": "stdout",
     "output_type": "stream",
     "text": [
      "Enter the age: 101\n",
      "Contratulations\n"
     ]
    }
   ],
   "source": [
    "age = int(input(\"Enter the age: \"))\n",
    "if (age>=0 and age<=12):\n",
    "    print(\"Child\")\n",
    "elif (age>=13 and age<=17):\n",
    "    print(\"Teen\")\n",
    "elif (age>=18 and age<=50):\n",
    "    print(\"Adult\")\n",
    "elif (age>=51 and age<=100):\n",
    "    print(\"Senior Citizen\")\n",
    "else:\n",
    "    print(\"Contratulations\")"
   ]
  },
  {
   "cell_type": "code",
   "execution_count": 25,
   "metadata": {},
   "outputs": [
    {
     "name": "stdout",
     "output_type": "stream",
     "text": [
      "Enter the year: 2020\n",
      "Its a leap year\n"
     ]
    }
   ],
   "source": [
    "year = int(input(\"Enter the year: \"))\n",
    "if year%4==0:\n",
    "    print(\"Its a leap year\")\n",
    "else:\n",
    "    print(\"Its not a leap year\")"
   ]
  },
  {
   "cell_type": "code",
   "execution_count": 31,
   "metadata": {},
   "outputs": [
    {
     "name": "stdout",
     "output_type": "stream",
     "text": [
      "Enter a string: my name is swathi\n",
      "MY NAME IS SWATHI\n"
     ]
    }
   ],
   "source": [
    "str = input(\"Enter a string: \")\n",
    "length = len(str)\n",
    "if length%2 == 0:\n",
    "    print(str.lower())\n",
    "else:\n",
    "    print(str.upper())"
   ]
  },
  {
   "cell_type": "code",
   "execution_count": 1,
   "metadata": {},
   "outputs": [
    {
     "name": "stdout",
     "output_type": "stream",
     "text": [
      "Enter a string: egg is white\n",
      "non-veg\n"
     ]
    }
   ],
   "source": [
    "str = input(\"Enter a string: \")\n",
    "if 'egg' in str:\n",
    "    print(\"non-veg\")\n",
    "else:\n",
    "    print(\"veg\")"
   ]
  },
  {
   "cell_type": "code",
   "execution_count": 2,
   "metadata": {},
   "outputs": [
    {
     "name": "stdout",
     "output_type": "stream",
     "text": [
      "True\n"
     ]
    }
   ],
   "source": [
    "if not 1:\n",
    "    print(\"False\")\n",
    "else:\n",
    "    print(\"True\")"
   ]
  },
  {
   "cell_type": "code",
   "execution_count": 3,
   "metadata": {},
   "outputs": [
    {
     "name": "stdout",
     "output_type": "stream",
     "text": [
      "False\n"
     ]
    }
   ],
   "source": [
    "if 1:\n",
    "    print(\"True\")\n",
    "else:\n",
    "    print(\"False\")"
   ]
  },
  {
   "cell_type": "code",
   "execution_count": 4,
   "metadata": {},
   "outputs": [
    {
     "name": "stdout",
     "output_type": "stream",
     "text": [
      "Weird\n"
     ]
    }
   ],
   "source": [
    "if 'a' > 'A':\n",
    "    print(\"Weird\")\n",
    "else:\n",
    "    print(\"Make Sense\")"
   ]
  },
  {
   "cell_type": "code",
   "execution_count": 5,
   "metadata": {},
   "outputs": [
    {
     "name": "stdout",
     "output_type": "stream",
     "text": [
      "[4, 3, 2, 1]\n"
     ]
    }
   ],
   "source": [
    "a = [1,2,3,4]\n",
    "if 1 > 1:\n",
    "    a = a[::-1]\n",
    "else:\n",
    "    a = a[-1::-1]\n",
    "print(a)"
   ]
  },
  {
   "cell_type": "code",
   "execution_count": 30,
   "metadata": {},
   "outputs": [
    {
     "name": "stdout",
     "output_type": "stream",
     "text": [
      "Enter the marks of sub1: 76\n",
      "Enter the marks of sub2: 75\n",
      "Enter the marks of sub3: 74\n",
      "Enter the marks of sub4: 71\n",
      "Enter the marks of sub5: 72\n",
      "73.6\n",
      "C Grade\n"
     ]
    }
   ],
   "source": [
    "sub1 = int(input(\"Enter the marks of sub1: \"))\n",
    "sub2 = int(input(\"Enter the marks of sub2: \"))\n",
    "sub3 = int(input(\"Enter the marks of sub3: \"))\n",
    "sub4 = int(input(\"Enter the marks of sub4: \"))\n",
    "sub5 = int(input(\"Enter the marks of sub5: \"))\n",
    "\n",
    "sum = (sub1+sub2+sub3+sub4+sub5)\n",
    "percent =float(sum/500)*100\n",
    "print(percent)\n",
    "if (percent>=90) and (percent<=100):\n",
    "    print(\"A Grade\")\n",
    "elif (percent>=80) and (perent<=89):\n",
    "    print(\"B Grade\")\n",
    "elif (percent>=60) and (percent<=79):\n",
    "    print(\"C Grade\")\n",
    "else:\n",
    "    print(\"Fail\")"
   ]
  },
  {
   "cell_type": "code",
   "execution_count": null,
   "metadata": {},
   "outputs": [],
   "source": []
  },
  {
   "cell_type": "code",
   "execution_count": null,
   "metadata": {},
   "outputs": [],
   "source": []
  }
 ],
 "metadata": {
  "kernelspec": {
   "display_name": "Python 3",
   "language": "python",
   "name": "python3"
  },
  "language_info": {
   "codemirror_mode": {
    "name": "ipython",
    "version": 3
   },
   "file_extension": ".py",
   "mimetype": "text/x-python",
   "name": "python",
   "nbconvert_exporter": "python",
   "pygments_lexer": "ipython3",
   "version": "3.7.3"
  }
 },
 "nbformat": 4,
 "nbformat_minor": 2
}
