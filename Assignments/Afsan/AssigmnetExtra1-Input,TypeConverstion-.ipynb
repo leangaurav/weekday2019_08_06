{
 "cells": [
  {
   "cell_type": "markdown",
   "metadata": {},
   "source": [
    "## Q1\n"
   ]
  },
  {
   "cell_type": "code",
   "execution_count": 1,
   "metadata": {},
   "outputs": [
    {
     "name": "stdout",
     "output_type": "stream",
     "text": [
      "enter the temprature in farenheit :-32\n",
      "celcius 0.0\n"
     ]
    }
   ],
   "source": [
    "f=int(input(\"enter the temprature in farenheit :-\"))\n",
    "c=(f-32)*5/9\n",
    "print(\"celcius {}\".format(c))"
   ]
  },
  {
   "cell_type": "markdown",
   "metadata": {},
   "source": [
    "## Q2"
   ]
  },
  {
   "cell_type": "code",
   "execution_count": 3,
   "metadata": {},
   "outputs": [
    {
     "name": "stdout",
     "output_type": "stream",
     "text": [
      "enter any number of your choice6\n",
      "square of a number is 36\n",
      "cube of a number is 216\n"
     ]
    }
   ],
   "source": [
    "number=int(input(\"enter any number of your choice\"))\n",
    "square = pow(number,2)\n",
    "cube=pow(number,3)\n",
    "print(\"square of a number is {}\".format(square),\"cube of a number is {}\".format(cube),sep='\\n')\n"
   ]
  },
  {
   "cell_type": "markdown",
   "metadata": {},
   "source": [
    "## Q3"
   ]
  },
  {
   "cell_type": "code",
   "execution_count": 4,
   "metadata": {},
   "outputs": [
    {
     "name": "stdout",
     "output_type": "stream",
     "text": [
      "enter the value of n:3\n",
      "enter the calue of m:2\n",
      "n^2+m^2 is 13\n"
     ]
    }
   ],
   "source": [
    "n=int(input(\"enter the value of n:\"))\n",
    "m=int(input(\"enter the calue of m:\"))\n",
    "c=pow(n,2)+pow(m,2)\n",
    "print(\"n^2+m^2 is {}\".format(c))"
   ]
  },
  {
   "cell_type": "markdown",
   "metadata": {},
   "source": [
    "## Q4"
   ]
  },
  {
   "cell_type": "code",
   "execution_count": 5,
   "metadata": {},
   "outputs": [
    {
     "name": "stdout",
     "output_type": "stream",
     "text": [
      "enter the value of M:1\n",
      "enter the value of N:2\n",
      "displaying using ** and the value is 1\n",
      "displaying using pow and the value is 1\n"
     ]
    }
   ],
   "source": [
    "M=int(input(\"enter the value of M:\"))\n",
    "N=int(input(\"enter the value of N:\"))\n",
    "method1=pow(M,N)\n",
    "method2=M**n\n",
    "print(\"displaying using ** and the value is {}\".format(method1))\n",
    "print(\"displaying using pow and the value is {}\".format(method2))"
   ]
  },
  {
   "cell_type": "markdown",
   "metadata": {},
   "source": [
    "## Q5"
   ]
  },
  {
   "cell_type": "code",
   "execution_count": 8,
   "metadata": {},
   "outputs": [
    {
     "name": "stdout",
     "output_type": "stream",
     "text": [
      "enter the principal:1\n",
      "input the rate:2\n",
      "input the time:3\n",
      "simple intrest is 7\n"
     ]
    }
   ],
   "source": [
    "principal=int(input(\"enter the principal:\"))\n",
    "rate=int(input(\"input the rate:\"))\n",
    "time=int(input(\"input the time:\"))\n",
    "SI=principal*(1+rate*time)\n",
    "print(\"simple intrest is {}\".format(SI))"
   ]
  },
  {
   "cell_type": "markdown",
   "metadata": {},
   "source": [
    "## Q6\n"
   ]
  },
  {
   "cell_type": "code",
   "execution_count": 11,
   "metadata": {},
   "outputs": [
    {
     "name": "stdout",
     "output_type": "stream",
     "text": [
      "enter the principal:1\n",
      "input the rate:1\n",
      "input the time:1\n",
      "enter the number of years1\n",
      "Ci is 3 and amount is 2.0\n"
     ]
    }
   ],
   "source": [
    "principal=int(input(\"enter the principal:\"))\n",
    "rate=int(input(\"input the rate:\"))\n",
    "time=int(input(\"input the time:\"))\n",
    "n=int(input(\"enter the number of years\"))\n",
    "CI = principal*(pow(1+rate,time)+principal)\n",
    "Amount = principal*(pow(1+(rate/n),n*time))\n",
    "print(\"Ci is {} and amount is {}\".format(CI,Amount))"
   ]
  },
  {
   "cell_type": "markdown",
   "metadata": {},
   "source": [
    "## Q7\n"
   ]
  },
  {
   "cell_type": "code",
   "execution_count": 13,
   "metadata": {},
   "outputs": [
    {
     "name": "stdout",
     "output_type": "stream",
     "text": [
      "enter the value of n3\n",
      "Sum of first n number is 6.0\n"
     ]
    }
   ],
   "source": [
    "n=int(input(\"enter the value of n\"))\n",
    "sum=(n*(n+1))/2\n",
    "print(\"Sum of first n number is {}\".format(sum))"
   ]
  },
  {
   "cell_type": "markdown",
   "metadata": {},
   "source": [
    "## Q8\n"
   ]
  },
  {
   "cell_type": "code",
   "execution_count": 15,
   "metadata": {},
   "outputs": [
    {
     "name": "stdout",
     "output_type": "stream",
     "text": [
      "input the first number1\n",
      "input the second number2\n",
      "swapped value is 2 1 \n",
      "input the first number1\n",
      "input the second number2\n",
      "swap value using the temp is 2 1\n"
     ]
    }
   ],
   "source": [
    "n=int(input(\"input the first number\"))\n",
    "m=int(input(\"input the second number\"))\n",
    "n,m=m,n\n",
    "print(\"swapped value is {} {} \".format(n,m))\n",
    "p=int(input(\"input the first number\"))\n",
    "q=int(input(\"input the second number\"))\n",
    "c=p\n",
    "p=q\n",
    "q=c\n",
    "print (\"swap value using the temp is {} {}\".format(p,q))"
   ]
  },
  {
   "cell_type": "markdown",
   "metadata": {},
   "source": [
    "## Q9\n"
   ]
  },
  {
   "cell_type": "code",
   "execution_count": 19,
   "metadata": {},
   "outputs": [
    {
     "data": {
      "text/plain": [
       "32"
      ]
     },
     "execution_count": 19,
     "metadata": {},
     "output_type": "execute_result"
    }
   ],
   "source": [
    "ord(' ')"
   ]
  },
  {
   "cell_type": "markdown",
   "metadata": {},
   "source": [
    "## Q10\n"
   ]
  },
  {
   "cell_type": "code",
   "execution_count": 20,
   "metadata": {},
   "outputs": [
    {
     "name": "stdout",
     "output_type": "stream",
     "text": [
      "enter the single charactert\n"
     ]
    },
    {
     "data": {
      "text/plain": [
       "116"
      ]
     },
     "execution_count": 20,
     "metadata": {},
     "output_type": "execute_result"
    }
   ],
   "source": [
    "n=input(\"enter the single character\")\n",
    "ord(n)"
   ]
  },
  {
   "cell_type": "markdown",
   "metadata": {},
   "source": [
    "## Q11\n"
   ]
  },
  {
   "cell_type": "code",
   "execution_count": 25,
   "metadata": {},
   "outputs": [
    {
     "name": "stdout",
     "output_type": "stream",
     "text": [
      "enter the area of the circel34\n",
      "radius of the circle is 3.2897623212397704 and circumfernce of the circle is 20.670186280926735\n"
     ]
    }
   ],
   "source": [
    "import math\n",
    "area=int(input(\"enter the area of the circel\"))\n",
    "radius=math.sqrt(area/math.pi)\n",
    "cir=2*math.pi*radius\n",
    "print(\"radius of the circle is {} and circumfernce of the circle is {}\".format(radius,cir))"
   ]
  },
  {
   "cell_type": "markdown",
   "metadata": {},
   "source": [
    "## Q12`"
   ]
  },
  {
   "cell_type": "code",
   "execution_count": 28,
   "metadata": {},
   "outputs": [
    {
     "name": "stdout",
     "output_type": "stream",
     "text": [
      "enter the marks of subject 1100\n",
      "enter the marks of subject 2100\n",
      "enter the marks of subject 3100\n",
      "enter the marks of subject 4100\n",
      "enter the marks of subject 5100\n",
      "percentage = 100.0\n"
     ]
    }
   ],
   "source": [
    "m1=int(input(\"enter the marks of subject 1\"))\n",
    "m2=int(input(\"enter the marks of subject 2\"))\n",
    "m3=int(input(\"enter the marks of subject 3\"))\n",
    "m4=int(input(\"enter the marks of subject 4\"))\n",
    "m5=int(input(\"enter the marks of subject 5\"))\n",
    "per= (m1+m2+m3+m4+m5)/5\n",
    "print(\"percentage = {}\".format(per))"
   ]
  },
  {
   "cell_type": "code",
   "execution_count": null,
   "metadata": {},
   "outputs": [],
   "source": []
  }
 ],
 "metadata": {
  "kernelspec": {
   "display_name": "Python 3",
   "language": "python",
   "name": "python3"
  }
 },
 "nbformat": 4,
 "nbformat_minor": 2
}
