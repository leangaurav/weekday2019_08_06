{
 "cells": [
  {
   "cell_type": "code",
   "execution_count": 1,
   "metadata": {},
   "outputs": [],
   "source": [
    "import numpy as np"
   ]
  },
  {
   "cell_type": "code",
   "execution_count": 5,
   "metadata": {},
   "outputs": [
    {
     "name": "stdout",
     "output_type": "stream",
     "text": [
      "[1 2]\n",
      "['T', '__abs__', '__add__', '__and__', '__array__', '__array_finalize__', '__array_function__', '__array_interface__', '__array_prepare__', '__array_priority__', '__array_struct__', '__array_ufunc__', '__array_wrap__', '__bool__', '__class__', '__complex__', '__contains__', '__copy__', '__deepcopy__', '__delattr__', '__delitem__', '__dir__', '__divmod__', '__doc__', '__eq__', '__float__', '__floordiv__', '__format__', '__ge__', '__getattribute__', '__getitem__', '__gt__', '__hash__', '__iadd__', '__iand__', '__ifloordiv__', '__ilshift__', '__imatmul__', '__imod__', '__imul__', '__index__', '__init__', '__init_subclass__', '__int__', '__invert__', '__ior__', '__ipow__', '__irshift__', '__isub__', '__iter__', '__itruediv__', '__ixor__', '__le__', '__len__', '__lshift__', '__lt__', '__matmul__', '__mod__', '__mul__', '__ne__', '__neg__', '__new__', '__or__', '__pos__', '__pow__', '__radd__', '__rand__', '__rdivmod__', '__reduce__', '__reduce_ex__', '__repr__', '__rfloordiv__', '__rlshift__', '__rmatmul__', '__rmod__', '__rmul__', '__ror__', '__rpow__', '__rrshift__', '__rshift__', '__rsub__', '__rtruediv__', '__rxor__', '__setattr__', '__setitem__', '__setstate__', '__sizeof__', '__str__', '__sub__', '__subclasshook__', '__truediv__', '__xor__', 'all', 'any', 'argmax', 'argmin', 'argpartition', 'argsort', 'astype', 'base', 'byteswap', 'choose', 'clip', 'compress', 'conj', 'conjugate', 'copy', 'ctypes', 'cumprod', 'cumsum', 'data', 'diagonal', 'dot', 'dtype', 'dump', 'dumps', 'fill', 'flags', 'flat', 'flatten', 'getfield', 'imag', 'item', 'itemset', 'itemsize', 'max', 'mean', 'min', 'nbytes', 'ndim', 'newbyteorder', 'nonzero', 'partition', 'prod', 'ptp', 'put', 'ravel', 'real', 'repeat', 'reshape', 'resize', 'round', 'searchsorted', 'setfield', 'setflags', 'shape', 'size', 'sort', 'squeeze', 'std', 'strides', 'sum', 'swapaxes', 'take', 'tobytes', 'tofile', 'tolist', 'tostring', 'trace', 'transpose', 'var', 'view']\n"
     ]
    }
   ],
   "source": [
    "a = np.array([1,2])\n",
    "print(a)\n",
    "print(dir(a))"
   ]
  },
  {
   "cell_type": "code",
   "execution_count": 10,
   "metadata": {},
   "outputs": [
    {
     "name": "stdout",
     "output_type": "stream",
     "text": [
      "[1 2 3]\n",
      "<class 'numpy.ndarray'>\n",
      "1\n",
      "(3,)\n",
      "3\n"
     ]
    }
   ],
   "source": [
    "a = np.array([1,2,3])\n",
    "print(a)\n",
    "print(type(a))\n",
    "print(a.ndim)\n",
    "print(a.shape)\n",
    "print(a.size)"
   ]
  },
  {
   "cell_type": "code",
   "execution_count": 15,
   "metadata": {},
   "outputs": [
    {
     "name": "stdout",
     "output_type": "stream",
     "text": [
      "[[1 2 3]\n",
      " [4 5 6]\n",
      " [7 8 9]]\n",
      "<class 'numpy.ndarray'>\n",
      "9\n",
      "(3, 3)\n",
      "2\n",
      "4\n",
      "int32\n"
     ]
    }
   ],
   "source": [
    "a = np.array([(1,2,3),(4,5,6),(7,8,9)])\n",
    "print(a)\n",
    "print(type(a))\n",
    "print(a.size)\n",
    "print(a.shape)\n",
    "print(a.ndim)\n",
    "print(a.itemsize)\n",
    "print(a.dtype)"
   ]
  },
  {
   "cell_type": "code",
   "execution_count": 19,
   "metadata": {},
   "outputs": [
    {
     "name": "stdout",
     "output_type": "stream",
     "text": [
      "[0. 0. 0. 0. 0.]\n",
      "Data Type :  float64\n",
      "Item Size :  8\n",
      "Shape :  (5,)\n"
     ]
    }
   ],
   "source": [
    "x = np.zeros(5)\n",
    "print(x)\n",
    "print('Data Type : ',x.dtype)\n",
    "print('Item Size : ',x.itemsize)\n",
    "print('Shape : ',x.shape)"
   ]
  },
  {
   "cell_type": "code",
   "execution_count": 27,
   "metadata": {},
   "outputs": [
    {
     "name": "stdout",
     "output_type": "stream",
     "text": [
      "[[1. 1. 1. 1. 1.]\n",
      " [1. 1. 1. 1. 1.]\n",
      " [1. 1. 1. 1. 1.]\n",
      " [1. 1. 1. 1. 1.]]\n"
     ]
    }
   ],
   "source": [
    "y = np.ones((4,5))\n",
    "print(y)"
   ]
  },
  {
   "cell_type": "code",
   "execution_count": 48,
   "metadata": {},
   "outputs": [
    {
     "name": "stdout",
     "output_type": "stream",
     "text": [
      "[[ 1  2  3  4  5]\n",
      " [ 6  7  8  9 10]\n",
      " [11 12 13 14 15]\n",
      " [16 17 18 19 20]]\n",
      "[[ 10  20  30  40  50]\n",
      " [ 60  70  80  90 100]\n",
      " [110 120 130 140 150]\n",
      " [160 170 180 190 200]]\n"
     ]
    }
   ],
   "source": [
    "z = np.array(range(1,21)).reshape(4,5)\n",
    "print(z)\n",
    "z = np.array(range(1,21)).reshape(4,5)*10\n",
    "print(z)\n"
   ]
  },
  {
   "cell_type": "code",
   "execution_count": 77,
   "metadata": {},
   "outputs": [
    {
     "name": "stdout",
     "output_type": "stream",
     "text": [
      "[[ 1  2  3  4  5]\n",
      " [ 6  7  8  9 10]\n",
      " [11 12 13 14 15]\n",
      " [16 17 18 19 20]]\n",
      "1\n",
      "3\n",
      "5\n",
      "7\n",
      "9\n",
      "11\n",
      "13\n",
      "15\n",
      "17\n",
      "19\n"
     ]
    }
   ],
   "source": [
    "z = np.array(range(1,21)).reshape(4,5)\n",
    "print(z)\n",
    "size = z.shape\n",
    "r = size[0]\n",
    "c = size[1]\n",
    "# printing odd numbers \n",
    "for i in range(r) : \n",
    "    for j in range(c) :\n",
    "        if z[i][j] %2 != 0 :\n",
    "            print(z[i][j])"
   ]
  },
  {
   "cell_type": "code",
   "execution_count": 78,
   "metadata": {},
   "outputs": [
    {
     "name": "stdout",
     "output_type": "stream",
     "text": [
      "[[ 1  2  3  4  5]\n",
      " [ 6  7  8  9 10]\n",
      " [11 12 13 14 15]\n",
      " [16 17 18 19 20]]\n",
      "[[  1  -2   3  -4   5]\n",
      " [ -6   7  -8   9 -10]\n",
      " [ 11 -12  13 -14  15]\n",
      " [-16  17 -18  19 -20]]\n"
     ]
    }
   ],
   "source": [
    "z = np.array(range(1,21)).reshape(4,5)\n",
    "print(z)\n",
    "size = z.shape\n",
    "r = size[0]\n",
    "c = size[1]\n",
    "# replacing even numbers by negitive\n",
    "for i in range(r) : \n",
    "    for j in range(c) :\n",
    "        if z[i][j] %2 == 0 :\n",
    "            z[i][j] = -z[i][j]\n",
    "print(z)\n",
    "            "
   ]
  },
  {
   "cell_type": "code",
   "execution_count": 121,
   "metadata": {},
   "outputs": [
    {
     "name": "stdout",
     "output_type": "stream",
     "text": [
      "--------m1--------\n",
      "[[ 1.  2.  3.  4.]\n",
      " [ 5.  6.  7.  8.]\n",
      " [ 9. 10. 11. 12.]\n",
      " [13. 14. 15. 16.]]\n",
      "\n",
      "--------m2--------\n",
      "[[ 1.  5.  9. 13.]\n",
      " [ 2.  6. 10. 14.]\n",
      " [ 3.  7. 11. 15.]\n",
      " [ 4.  8. 12. 16.]]\n",
      "\n",
      "--------m3--------\n",
      "[[ 2.  7. 12. 17.]\n",
      " [ 7. 12. 17. 22.]\n",
      " [12. 17. 22. 27.]\n",
      " [17. 22. 27. 32.]]\n",
      "\n",
      "--------mt1--------\n",
      "[[ 2.  7. 12. 17.]\n",
      " [ 7. 12. 17. 22.]\n",
      " [12. 17. 22. 27.]\n",
      " [17. 22. 27. 32.]]\n",
      "\n",
      "------equal-------\n",
      "\n",
      "---------m4--------\n",
      "[[ 0. -3. -6. -9.]\n",
      " [ 3.  0. -3. -6.]\n",
      " [ 6.  3.  0. -3.]\n",
      " [ 9.  6.  3.  0.]]\n",
      "----------mt2---------\n",
      "[[ 0.  3.  6.  9.]\n",
      " [-3.  0.  3.  6.]\n",
      " [-6. -3.  0.  3.]\n",
      " [-9. -6. -3.  0.]]\n"
     ]
    }
   ],
   "source": [
    "m1 = np.linspace(1,16,16).reshape(4,4)\n",
    "print('--------m1--------')\n",
    "print(m1)\n",
    "print()\n",
    "print('--------m2--------')\n",
    "m2 = m1.transpose()\n",
    "print(m2)\n",
    "print()\n",
    "print('--------m3--------')\n",
    "# sum of m1 and m2\n",
    "m3 = m1 + m2\n",
    "print(m3)\n",
    "print()\n",
    "mt1 = m3.transpose()\n",
    "print('--------mt1--------')\n",
    "print(mt1)\n",
    "\n",
    "size = mt1.shape\n",
    "r = size[0]\n",
    "c = size[1]\n",
    "# replacing even numbers by negitive\n",
    "for i in range(r) : \n",
    "    for j in range(c) :\n",
    "        if m3[i][j] == mt1[i][j] :\n",
    "            c = 1\n",
    "\n",
    "if c == 1 :\n",
    "    print()\n",
    "    print('------equal-------')\n",
    "    \n",
    "    \n",
    "# difference between m1 and m2\n",
    "\n",
    "m4 = m1 - m2\n",
    "print()\n",
    "print('---------m4--------')\n",
    "print(m4)\n",
    "\n",
    "mt2 = m4.transpose()\n",
    "print('----------mt2---------')\n",
    "print(mt2)\n",
    "\n"
   ]
  },
  {
   "cell_type": "code",
   "execution_count": 156,
   "metadata": {},
   "outputs": [
    {
     "name": "stdout",
     "output_type": "stream",
     "text": [
      "[[11 16 37 31]\n",
      " [36 39 18 21]\n",
      " [35 16 11 37]]\n"
     ]
    }
   ],
   "source": [
    "r1 = np.array(np.random.randint(10,40,12)).reshape(3,4)\n",
    "print(r1)"
   ]
  },
  {
   "cell_type": "code",
   "execution_count": 157,
   "metadata": {},
   "outputs": [
    {
     "name": "stdout",
     "output_type": "stream",
     "text": [
      "\n",
      "Columns\n",
      "36\n",
      "\n",
      "39\n",
      "\n",
      "37\n",
      "\n",
      "37\n",
      "\n",
      "[[11 16 37 31]\n",
      " [36 39 18 21]\n",
      " [35 16 11 37]]\n",
      "\n",
      "[64 93 62]\n"
     ]
    }
   ],
   "source": [
    "print()\n",
    "print('Columns')\n",
    "print( r1[:,0].max())\n",
    "print()\n",
    "print( r1[:,1].max())\n",
    "print()\n",
    "print( r1[:,2].max())\n",
    "print()\n",
    "print( r1[:,3].max())\n",
    "print()\n",
    "print(r1)\n",
    "print()\n",
    "\n",
    "for i in range(3) :\n",
    "    r1[:,3][i] = r1[:,0][i] + r1[:,1][i] + r1[:,2][i]\n",
    "print(r1[:,3])    "
   ]
  },
  {
   "cell_type": "code",
   "execution_count": null,
   "metadata": {},
   "outputs": [],
   "source": []
  },
  {
   "cell_type": "code",
   "execution_count": null,
   "metadata": {},
   "outputs": [],
   "source": []
  }
 ],
 "metadata": {
  "kernelspec": {
   "display_name": "Python 3",
   "language": "python",
   "name": "python3"
  },
  "language_info": {
   "codemirror_mode": {
    "name": "ipython",
    "version": 3
   },
   "file_extension": ".py",
   "mimetype": "text/x-python",
   "name": "python",
   "nbconvert_exporter": "python",
   "pygments_lexer": "ipython3",
   "version": "3.7.3"
  }
 },
 "nbformat": 4,
 "nbformat_minor": 2
}
