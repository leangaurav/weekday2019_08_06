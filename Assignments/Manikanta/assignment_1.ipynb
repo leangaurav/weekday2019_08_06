{
 "cells": [
  {
   "cell_type": "code",
   "execution_count": 10,
   "metadata": {},
   "outputs": [
    {
     "name": "stdout",
     "output_type": "stream",
     "text": [
      "Enter number: 54\n",
      "129.2\n"
     ]
    }
   ],
   "source": [
    "T = int(input(\"Enter number: \"))\n",
    "C = 1.8 * T + 32\n",
    "print(C)"
   ]
  },
  {
   "cell_type": "code",
   "execution_count": 19,
   "metadata": {},
   "outputs": [
    {
     "name": "stdout",
     "output_type": "stream",
     "text": [
      "enter the number: 4\n"
     ]
    },
    {
     "data": {
      "text/plain": [
       "16"
      ]
     },
     "execution_count": 19,
     "metadata": {},
     "output_type": "execute_result"
    }
   ],
   "source": [
    "S = int(input(\"enter the number: \"))\n",
    "#print(S*S, S*S*S)\n",
    "\n",
    "S ** 2  #square\n",
    "S ** 3  #cube"
   ]
  },
  {
   "cell_type": "code",
   "execution_count": 22,
   "metadata": {},
   "outputs": [
    {
     "name": "stdout",
     "output_type": "stream",
     "text": [
      "Enter the first number: -2\n",
      "Enter the second number: -4\n",
      "20\n"
     ]
    }
   ],
   "source": [
    "n = int(input(\"Enter the first number: \"))\n",
    "m = int(input(\"Enter the second number: \"))\n",
    "y = n ** 2 + m ** 2\n",
    "print(y)"
   ]
  },
  {
   "cell_type": "code",
   "execution_count": 25,
   "metadata": {},
   "outputs": [
    {
     "name": "stdout",
     "output_type": "stream",
     "text": [
      "Enter the principle: 23\n",
      "Enter the time: 43\n",
      "Enter the rate: 21\n",
      "207.69\n"
     ]
    }
   ],
   "source": [
    "p = float(input(\"Enter the principle: \"))\n",
    "t = float(input(\"Enter the time: \"))\n",
    "r = float(input(\"Enter the rate: \"))\n",
    "S = (p * t * r)/100\n",
    "print(S)\n"
   ]
  },
  {
   "cell_type": "code",
   "execution_count": 26,
   "metadata": {},
   "outputs": [
    {
     "name": "stdout",
     "output_type": "stream",
     "text": [
      "Enter the principle: 3\n",
      "Enter the time: 22\n",
      "Enter the rate: 32\n",
      "1348.1795687378178\n"
     ]
    }
   ],
   "source": [
    "p = float(input(\"Enter the principle: \"))\n",
    "t = float(input(\"Enter the time: \"))\n",
    "r = float(input(\"Enter the rate: \"))\n",
    "A = p * (pow((1+r/100),t))\n",
    "print(A)"
   ]
  },
  {
   "cell_type": "code",
   "execution_count": 34,
   "metadata": {},
   "outputs": [
    {
     "ename": "SyntaxError",
     "evalue": "invalid syntax (<ipython-input-34-ef8c271f64e8>, line 1)",
     "output_type": "error",
     "traceback": [
      "\u001b[1;36m  File \u001b[1;32m\"<ipython-input-34-ef8c271f64e8>\"\u001b[1;36m, line \u001b[1;32m1\u001b[0m\n\u001b[1;33m    num =\u001b[0m\n\u001b[1;37m          ^\u001b[0m\n\u001b[1;31mSyntaxError\u001b[0m\u001b[1;31m:\u001b[0m invalid syntax\n"
     ]
    }
   ],
   "source": [
    "num = \n",
    "while num < 11:\n",
    "    num = num + 1\n",
    "print(num)\n",
    "\n",
    "\n",
    "#for i in (range(1,11)):\n",
    "#    print(i)"
   ]
  },
  {
   "cell_type": "code",
   "execution_count": null,
   "metadata": {},
   "outputs": [],
   "source": []
  }
 ],
 "metadata": {
  "kernelspec": {
   "display_name": "Python 3",
   "language": "python",
   "name": "python3"
  },
  "language_info": {
   "codemirror_mode": {
    "name": "ipython",
    "version": 3
   },
   "file_extension": ".py",
   "mimetype": "text/x-python",
   "name": "python",
   "nbconvert_exporter": "python",
   "pygments_lexer": "ipython3",
   "version": "3.7.3"
  }
 },
 "nbformat": 4,
 "nbformat_minor": 2
}
