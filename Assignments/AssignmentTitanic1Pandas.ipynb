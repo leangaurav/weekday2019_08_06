{
 "cells": [
  {
   "cell_type": "markdown",
   "metadata": {},
   "source": [
    "|Variable|Definition|Key|\n",
    "|---|---|---|\n",
    "|survival|Survival|0 = No, 1 = Yes|\n",
    "|pclass|Ticket class|1 = 1st, 2 = 2nd, 3 = 3rd|\n",
    "|gender|gender ||\n",
    "|Age |Age in years| |\n",
    "|sibsp |number of siblings / spouses aboard|\t|\n",
    "|parch |number of parents / children aboard| |\n",
    "|ticket|Ticket number ||\n",
    "|fare | fare| \t|\n",
    "|cabin |Cabin number|\t|\n",
    "|embarked|Port of Embarkation|C = Cherbourg, Q = Queenstown, S = Southampton|\n",
    "|boat | Lifeboat||\n",
    "|body | Body Identification Number||\n",
    "|home.dest| Home/destination||"
   ]
  },
  {
   "cell_type": "markdown",
   "metadata": {},
   "source": []
  },
  {
   "cell_type": "markdown",
   "metadata": {},
   "source": [
    "- Read data and describe it\n",
    "- Find columns with missingdata\n",
    "- Print shape of dataset\n",
    "- drop columns with more than 25% missing data\n",
    "- drop columns having independent values(which do not affect the survival rate).\n",
    "\n",
    "\n",
    "- check data types of all columns\n",
    "- convert price to numeric\n",
    "- find columns still having missing/na values and also count of missing data\n",
    "- fill na with mean for fare and age column column.\n",
    "- drop na values for embarked column.\n",
    "- dump the dataframe to a csv file 'titanic_filtered.csv'.\n",
    "\n",
    "\n",
    "- for surviced column replace 0 with D and 1 with A\n",
    "- find the frequency of different values in survived column\n",
    "- group by gender and survived and see the counts in each category\n",
    "- find different pclass and no of people in each class\n",
    "\n",
    "- find top 5 people with highest values of age. Count no of male and females in the top 5\n",
    "- find max age male and female who survived\n",
    "- get average age by gender\n",
    "- get average age by people survived vs not-survived"
   ]
  },
  {
   "cell_type": "code",
   "execution_count": 2,
   "metadata": {},
   "outputs": [],
   "source": [
    "import pandas as pd"
   ]
  },
  {
   "cell_type": "code",
   "execution_count": 9,
   "metadata": {},
   "outputs": [
    {
     "name": "stdout",
     "output_type": "stream",
     "text": [
      "         Unnamed: 0       pclass     survived                  name gender  \\\n",
      "count   1309.000000  1309.000000  1309.000000                  1309   1309   \n",
      "unique          NaN          NaN          NaN                  1307      2   \n",
      "top             NaN          NaN          NaN  Connolly, Miss. Kate   male   \n",
      "freq            NaN          NaN          NaN                     2    843   \n",
      "mean     654.000000     2.294882     0.381971                   NaN    NaN   \n",
      "std      378.020061     0.837836     0.486055                   NaN    NaN   \n",
      "min        0.000000     1.000000     0.000000                   NaN    NaN   \n",
      "25%      327.000000     2.000000     0.000000                   NaN    NaN   \n",
      "50%      654.000000     3.000000     0.000000                   NaN    NaN   \n",
      "75%      981.000000     3.000000     1.000000                   NaN    NaN   \n",
      "max     1308.000000     3.000000     1.000000                   NaN    NaN   \n",
      "\n",
      "                age        sibsp        parch    ticket    fare        cabin  \\\n",
      "count   1046.000000  1309.000000  1309.000000      1309    1308          295   \n",
      "unique          NaN          NaN          NaN       929     263          186   \n",
      "top             NaN          NaN          NaN  CA. 2343  $8.05   C23 C25 C27   \n",
      "freq            NaN          NaN          NaN        11      60            6   \n",
      "mean      29.881135     0.498854     0.385027       NaN     NaN          NaN   \n",
      "std       14.413500     1.041658     0.865560       NaN     NaN          NaN   \n",
      "min        0.166700     0.000000     0.000000       NaN     NaN          NaN   \n",
      "25%       21.000000     0.000000     0.000000       NaN     NaN          NaN   \n",
      "50%       28.000000     0.000000     0.000000       NaN     NaN          NaN   \n",
      "75%       39.000000     1.000000     0.000000       NaN     NaN          NaN   \n",
      "max       80.000000     8.000000     9.000000       NaN     NaN          NaN   \n",
      "\n",
      "       embarked boat        body     home.dest  \n",
      "count      1307  486  121.000000           745  \n",
      "unique        3   27         NaN           369  \n",
      "top           S   13         NaN  New York, NY  \n",
      "freq        914   39         NaN            64  \n",
      "mean        NaN  NaN  160.809917           NaN  \n",
      "std         NaN  NaN   97.696922           NaN  \n",
      "min         NaN  NaN    1.000000           NaN  \n",
      "25%         NaN  NaN   72.000000           NaN  \n",
      "50%         NaN  NaN  155.000000           NaN  \n",
      "75%         NaN  NaN  256.000000           NaN  \n",
      "max         NaN  NaN  328.000000           NaN  \n"
     ]
    }
   ],
   "source": [
    "df = pd.read_csv(r'E:\\LINKS\\Desktop\\workspace\\weekday2019_08_06\\titanic_dataset.csv')\n",
    "print(df.describe(include = 'all'))\n"
   ]
  },
  {
   "cell_type": "code",
   "execution_count": 10,
   "metadata": {},
   "outputs": [
    {
     "name": "stdout",
     "output_type": "stream",
     "text": [
      "    Unnamed: 0  pclass  survived  \\\n",
      "0            0       1         1   \n",
      "1            1       1         1   \n",
      "2            2       1         0   \n",
      "3            3       1         0   \n",
      "4            4       1         0   \n",
      "5            5       1         1   \n",
      "6            6       1         1   \n",
      "7            7       1         0   \n",
      "8            8       1         1   \n",
      "9            9       1         0   \n",
      "10          10       1         0   \n",
      "11          11       1         1   \n",
      "12          12       1         1   \n",
      "13          13       1         1   \n",
      "14          14       1         1   \n",
      "15          15       1         0   \n",
      "16          16       1         0   \n",
      "17          17       1         1   \n",
      "18          18       1         1   \n",
      "19          19       1         0   \n",
      "\n",
      "                                                 name  gender      age  sibsp  \\\n",
      "0                       Allen, Miss. Elisabeth Walton  female  29.0000      0   \n",
      "1                      Allison, Master. Hudson Trevor    male   0.9167      1   \n",
      "2                        Allison, Miss. Helen Loraine  female   2.0000      1   \n",
      "3                Allison, Mr. Hudson Joshua Creighton    male  30.0000      1   \n",
      "4     Allison, Mrs. Hudson J C (Bessie Waldo Daniels)  female  25.0000      1   \n",
      "5                                 Anderson, Mr. Harry    male  48.0000      0   \n",
      "6                   Andrews, Miss. Kornelia Theodosia  female  63.0000      1   \n",
      "7                              Andrews, Mr. Thomas Jr    male  39.0000      0   \n",
      "8       Appleton, Mrs. Edward Dale (Charlotte Lamson)  female  53.0000      2   \n",
      "9                             Artagaveytia, Mr. Ramon    male  71.0000      0   \n",
      "10                             Astor, Col. John Jacob    male  47.0000      1   \n",
      "11  Astor, Mrs. John Jacob (Madeleine Talmadge Force)  female  18.0000      1   \n",
      "12                      Aubart, Mme. Leontine Pauline  female  24.0000      0   \n",
      "13                       Barber, Miss. Ellen \"Nellie\"  female  26.0000      0   \n",
      "14               Barkworth, Mr. Algernon Henry Wilson    male  80.0000      0   \n",
      "15                                Baumann, Mr. John D    male      NaN      0   \n",
      "16                           Baxter, Mr. Quigg Edmond    male  24.0000      0   \n",
      "17    Baxter, Mrs. James (Helene DeLaudeniere Chaput)  female  50.0000      0   \n",
      "18                              Bazzani, Miss. Albina  female  32.0000      0   \n",
      "19                               Beattie, Mr. Thomson    male  36.0000      0   \n",
      "\n",
      "    parch    ticket      fare    cabin embarked boat   body  \\\n",
      "0       0     24160  $211.34        B5        S    2    NaN   \n",
      "1       2    113781  $151.55   C22 C26        S   11    NaN   \n",
      "2       2    113781  $151.55   C22 C26        S  NaN    NaN   \n",
      "3       2    113781  $151.55   C22 C26        S  NaN  135.0   \n",
      "4       2    113781  $151.55   C22 C26        S  NaN    NaN   \n",
      "5       0     19952   $26.55       E12        S    3    NaN   \n",
      "6       0     13502   $77.96        D7        S   10    NaN   \n",
      "7       0    112050    $0.00       A36        S  NaN    NaN   \n",
      "8       0     11769   $51.48      C101        S    D    NaN   \n",
      "9       0  PC 17609   $49.50       NaN        C  NaN   22.0   \n",
      "10      0  PC 17757  $227.53   C62 C64        C  NaN  124.0   \n",
      "11      0  PC 17757  $227.53   C62 C64        C    4    NaN   \n",
      "12      0  PC 17477   $69.30       B35        C    9    NaN   \n",
      "13      0     19877   $78.85       NaN        S    6    NaN   \n",
      "14      0     27042   $30.00       A23        S    B    NaN   \n",
      "15      0  PC 17318   $25.93       NaN        S  NaN    NaN   \n",
      "16      1  PC 17558  $247.52   B58 B60        C  NaN    NaN   \n",
      "17      1  PC 17558  $247.52   B58 B60        C    6    NaN   \n",
      "18      0     11813   $76.29       D15        C    8    NaN   \n",
      "19      0     13050   $75.24        C6        C    A    NaN   \n",
      "\n",
      "                          home.dest  \n",
      "0                      St Louis, MO  \n",
      "1   Montreal, PQ / Chesterville, ON  \n",
      "2   Montreal, PQ / Chesterville, ON  \n",
      "3   Montreal, PQ / Chesterville, ON  \n",
      "4   Montreal, PQ / Chesterville, ON  \n",
      "5                      New York, NY  \n",
      "6                        Hudson, NY  \n",
      "7                       Belfast, NI  \n",
      "8               Bayside, Queens, NY  \n",
      "9               Montevideo, Uruguay  \n",
      "10                     New York, NY  \n",
      "11                     New York, NY  \n",
      "12                    Paris, France  \n",
      "13                              NaN  \n",
      "14                    Hessle, Yorks  \n",
      "15                     New York, NY  \n",
      "16                     Montreal, PQ  \n",
      "17                     Montreal, PQ  \n",
      "18                              NaN  \n",
      "19                     Winnipeg, MN  \n"
     ]
    }
   ],
   "source": [
    "print(df.head(n=20))"
   ]
  },
  {
   "cell_type": "code",
   "execution_count": 11,
   "metadata": {},
   "outputs": [
    {
     "name": "stdout",
     "output_type": "stream",
     "text": [
      "(1309, 15)\n",
      "Unnamed: 0      int64\n",
      "pclass          int64\n",
      "survived        int64\n",
      "name           object\n",
      "gender         object\n",
      "age           float64\n",
      "sibsp           int64\n",
      "parch           int64\n",
      "ticket         object\n",
      "fare           object\n",
      "cabin          object\n",
      "embarked       object\n",
      "boat           object\n",
      "body          float64\n",
      "home.dest      object\n",
      "dtype: object\n",
      "Index(['Unnamed: 0', 'pclass', 'survived', 'name', 'gender', 'age', 'sibsp',\n",
      "       'parch', 'ticket', 'fare', 'cabin', 'embarked', 'boat', 'body',\n",
      "       'home.dest'],\n",
      "      dtype='object')\n"
     ]
    }
   ],
   "source": [
    "print(df.shape)\n",
    "print(df.dtypes)\n",
    "print(df.columns)"
   ]
  },
  {
   "cell_type": "code",
   "execution_count": 16,
   "metadata": {},
   "outputs": [
    {
     "data": {
      "text/plain": [
       "Unnamed: 0    0.000000\n",
       "pclass        0.000000\n",
       "survived      0.000000\n",
       "name          0.000000\n",
       "gender        0.000000\n",
       "age           0.200917\n",
       "sibsp         0.000000\n",
       "parch         0.000000\n",
       "ticket        0.000000\n",
       "fare          0.000764\n",
       "cabin         0.774637\n",
       "embarked      0.001528\n",
       "boat          0.628724\n",
       "body          0.907563\n",
       "home.dest     0.430863\n",
       "dtype: float64"
      ]
     },
     "execution_count": 16,
     "metadata": {},
     "output_type": "execute_result"
    }
   ],
   "source": [
    "df.isna().sum()/ df.shape[0] # or"
   ]
  },
  {
   "cell_type": "code",
   "execution_count": null,
   "metadata": {},
   "outputs": [],
   "source": []
  },
  {
   "cell_type": "code",
   "execution_count": null,
   "metadata": {},
   "outputs": [],
   "source": []
  }
 ],
 "metadata": {
  "kernelspec": {
   "display_name": "Python 3",
   "language": "python",
   "name": "python3"
  },
  "language_info": {
   "codemirror_mode": {
    "name": "ipython",
    "version": 3
   },
   "file_extension": ".py",
   "mimetype": "text/x-python",
   "name": "python",
   "nbconvert_exporter": "python",
   "pygments_lexer": "ipython3",
   "version": "3.7.3"
  }
 },
 "nbformat": 4,
 "nbformat_minor": 2
}
