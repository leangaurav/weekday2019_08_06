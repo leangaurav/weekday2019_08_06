{
 "cells": [
  {
   "cell_type": "code",
   "execution_count": 1,
   "metadata": {},
   "outputs": [],
   "source": [
    "import pandas as pd"
   ]
  },
  {
   "cell_type": "code",
   "execution_count": 2,
   "metadata": {},
   "outputs": [
    {
     "name": "stdout",
     "output_type": "stream",
     "text": [
      "         Unnamed: 0       pclass     survived              name gender  \\\n",
      "count   1309.000000  1309.000000  1309.000000              1309   1309   \n",
      "unique          NaN          NaN          NaN              1307      2   \n",
      "top             NaN          NaN          NaN  Kelly, Mr. James   male   \n",
      "freq            NaN          NaN          NaN                 2    843   \n",
      "mean     654.000000     2.294882     0.381971               NaN    NaN   \n",
      "std      378.020061     0.837836     0.486055               NaN    NaN   \n",
      "min        0.000000     1.000000     0.000000               NaN    NaN   \n",
      "25%      327.000000     2.000000     0.000000               NaN    NaN   \n",
      "50%      654.000000     3.000000     0.000000               NaN    NaN   \n",
      "75%      981.000000     3.000000     1.000000               NaN    NaN   \n",
      "max     1308.000000     3.000000     1.000000               NaN    NaN   \n",
      "\n",
      "                age        sibsp        parch    ticket    fare        cabin  \\\n",
      "count   1046.000000  1309.000000  1309.000000      1309    1308          295   \n",
      "unique          NaN          NaN          NaN       929     263          186   \n",
      "top             NaN          NaN          NaN  CA. 2343  $8.05   C23 C25 C27   \n",
      "freq            NaN          NaN          NaN        11      60            6   \n",
      "mean      29.881135     0.498854     0.385027       NaN     NaN          NaN   \n",
      "std       14.413500     1.041658     0.865560       NaN     NaN          NaN   \n",
      "min        0.166700     0.000000     0.000000       NaN     NaN          NaN   \n",
      "25%       21.000000     0.000000     0.000000       NaN     NaN          NaN   \n",
      "50%       28.000000     0.000000     0.000000       NaN     NaN          NaN   \n",
      "75%       39.000000     1.000000     0.000000       NaN     NaN          NaN   \n",
      "max       80.000000     8.000000     9.000000       NaN     NaN          NaN   \n",
      "\n",
      "       embarked boat        body     home.dest  \n",
      "count      1307  486  121.000000           745  \n",
      "unique        3   27         NaN           369  \n",
      "top           S   13         NaN  New York, NY  \n",
      "freq        914   39         NaN            64  \n",
      "mean        NaN  NaN  160.809917           NaN  \n",
      "std         NaN  NaN   97.696922           NaN  \n",
      "min         NaN  NaN    1.000000           NaN  \n",
      "25%         NaN  NaN   72.000000           NaN  \n",
      "50%         NaN  NaN  155.000000           NaN  \n",
      "75%         NaN  NaN  256.000000           NaN  \n",
      "max         NaN  NaN  328.000000           NaN  \n"
     ]
    }
   ],
   "source": [
    "df = pd.read_csv(r'C:\\Users\\Dell\\Desktop\\weekday2019_08_06\\titanic_dataset.csv')\n",
    "print(df.describe(include = 'all'))"
   ]
  },
  {
   "cell_type": "code",
   "execution_count": 4,
   "metadata": {},
   "outputs": [
    {
     "name": "stdout",
     "output_type": "stream",
     "text": [
      "[False False False False False False False False False False False False\n",
      " False False False]\n"
     ]
    }
   ],
   "source": [
    "print(df.columns.isna())"
   ]
  },
  {
   "cell_type": "code",
   "execution_count": 5,
   "metadata": {},
   "outputs": [
    {
     "name": "stdout",
     "output_type": "stream",
     "text": [
      "(1309, 15)\n"
     ]
    }
   ],
   "source": [
    "print(df.shape)"
   ]
  },
  {
   "cell_type": "code",
   "execution_count": 6,
   "metadata": {},
   "outputs": [
    {
     "data": {
      "text/plain": [
       "1309"
      ]
     },
     "execution_count": 6,
     "metadata": {},
     "output_type": "execute_result"
    }
   ],
   "source": [
    "thresh = len(df) * 0.75\n",
    "df.dropna(thresh = thresh, axis =1,inplace = True)"
   ]
  },
  {
   "cell_type": "code",
   "execution_count": null,
   "metadata": {},
   "outputs": [],
   "source": [
    "df.drop(['ticket','boat','home.dest','body','embarked'],axis = 1)"
   ]
  },
  {
   "cell_type": "code",
   "execution_count": 7,
   "metadata": {},
   "outputs": [
    {
     "name": "stdout",
     "output_type": "stream",
     "text": [
      "Unnamed: 0      int64\n",
      "pclass          int64\n",
      "survived        int64\n",
      "name           object\n",
      "gender         object\n",
      "age           float64\n",
      "sibsp           int64\n",
      "parch           int64\n",
      "ticket         object\n",
      "fare           object\n",
      "cabin          object\n",
      "embarked       object\n",
      "boat           object\n",
      "body          float64\n",
      "home.dest      object\n",
      "dtype: object\n"
     ]
    }
   ],
   "source": [
    "print(df.dtypes)"
   ]
  },
  {
   "cell_type": "code",
   "execution_count": 10,
   "metadata": {
    "scrolled": true
   },
   "outputs": [
    {
     "name": "stdout",
     "output_type": "stream",
     "text": [
      "object\n"
     ]
    }
   ],
   "source": [
    "print(df.fare.dtype)"
   ]
  },
  {
   "cell_type": "code",
   "execution_count": 15,
   "metadata": {
    "scrolled": true
   },
   "outputs": [
    {
     "name": "stdout",
     "output_type": "stream",
     "text": [
      "float64 0    211.34\n",
      "1    151.55\n",
      "2    151.55\n",
      "3    151.55\n",
      "4    151.55\n",
      "Name: fare, dtype: float64\n"
     ]
    }
   ],
   "source": [
    "col = df.fare.str.replace('$','')\n",
    "col = col.astype('float')\n",
    "print(col.dtype,col.head(5))"
   ]
  },
  {
   "cell_type": "code",
   "execution_count": 17,
   "metadata": {},
   "outputs": [
    {
     "data": {
      "text/plain": [
       "Unnamed: 0       0\n",
       "pclass           0\n",
       "survived         0\n",
       "name             0\n",
       "gender           0\n",
       "age            263\n",
       "sibsp            0\n",
       "parch            0\n",
       "ticket           0\n",
       "fare             1\n",
       "cabin         1014\n",
       "embarked         2\n",
       "boat           823\n",
       "body          1188\n",
       "home.dest      564\n",
       "dtype: int64"
      ]
     },
     "execution_count": 17,
     "metadata": {},
     "output_type": "execute_result"
    }
   ],
   "source": [
    "df.isna().sum()"
   ]
  },
  {
   "cell_type": "code",
   "execution_count": null,
   "metadata": {},
   "outputs": [],
   "source": [
    "df.age.fillna(df.age.mean(), inplace = True)\n",
    "print(df.age.isna().any())\n",
    "print(df.describe())"
   ]
  },
  {
   "cell_type": "code",
   "execution_count": null,
   "metadata": {},
   "outputs": [],
   "source": [
    "df.fare.fillna(df.fare.mean(), inplace = True)\n",
    "print(df.fare.isna().any())\n",
    "print(df.describe())"
   ]
  },
  {
   "cell_type": "code",
   "execution_count": null,
   "metadata": {},
   "outputs": [],
   "source": [
    "df.to_csv('titanic_filtered.csv')"
   ]
  },
  {
   "cell_type": "code",
   "execution_count": 20,
   "metadata": {
    "scrolled": true
   },
   "outputs": [
    {
     "name": "stdout",
     "output_type": "stream",
     "text": [
      "0       1\n",
      "1       1\n",
      "2       0\n",
      "3       0\n",
      "4       0\n",
      "5       1\n",
      "6       1\n",
      "7       0\n",
      "8       1\n",
      "9       0\n",
      "10      0\n",
      "11      1\n",
      "12      1\n",
      "13      1\n",
      "14      1\n",
      "15      0\n",
      "16      0\n",
      "17      1\n",
      "18      1\n",
      "19      0\n",
      "20      1\n",
      "21      1\n",
      "22      1\n",
      "23      1\n",
      "24      1\n",
      "25      0\n",
      "26      1\n",
      "27      1\n",
      "28      1\n",
      "29      1\n",
      "       ..\n",
      "1279    0\n",
      "1280    0\n",
      "1281    0\n",
      "1282    0\n",
      "1283    0\n",
      "1284    0\n",
      "1285    0\n",
      "1286    1\n",
      "1287    0\n",
      "1288    0\n",
      "1289    0\n",
      "1290    1\n",
      "1291    0\n",
      "1292    0\n",
      "1293    0\n",
      "1294    0\n",
      "1295    0\n",
      "1296    0\n",
      "1297    0\n",
      "1298    0\n",
      "1299    0\n",
      "1300    1\n",
      "1301    0\n",
      "1302    0\n",
      "1303    0\n",
      "1304    0\n",
      "1305    0\n",
      "1306    0\n",
      "1307    0\n",
      "1308    0\n",
      "Name: survived, Length: 1309, dtype: int64\n"
     ]
    }
   ],
   "source": [
    "#s = df.survived.replace(0,'D')\n",
    "s = df['survived'].replace([0,1],['D','A'])"
   ]
  },
  {
   "cell_type": "code",
   "execution_count": 22,
   "metadata": {},
   "outputs": [
    {
     "name": "stdout",
     "output_type": "stream",
     "text": [
      "0    809\n",
      "1    500\n",
      "Name: survived, dtype: int64\n"
     ]
    }
   ],
   "source": [
    "print(df['survived'].value_counts())"
   ]
  }
 ],
 "metadata": {
  "kernelspec": {
   "display_name": "Python 3",
   "language": "python",
   "name": "python3"
  },
  "language_info": {
   "codemirror_mode": {
    "name": "ipython",
    "version": 3
   },
   "file_extension": ".py",
   "mimetype": "text/x-python",
   "name": "python",
   "nbconvert_exporter": "python",
   "pygments_lexer": "ipython3",
   "version": "3.7.3"
  }
 },
 "nbformat": 4,
 "nbformat_minor": 2
}
