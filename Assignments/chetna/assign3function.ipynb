{
 "cells": [
  {
   "cell_type": "code",
   "execution_count": 2,
   "metadata": {},
   "outputs": [
    {
     "name": "stdout",
     "output_type": "stream",
     "text": [
      "Enter a string : hello\n",
      "Enter another string : world\n",
      "s1 :  world s2 :  hello\n"
     ]
    }
   ],
   "source": [
    "# a1 : input 2 string and swap the strings \n",
    "\n",
    "s1 = input('Enter a string : ')\n",
    "s2 = input('Enter another string : ')\n",
    "s1,s2 = s2,s1\n",
    "print('s1 : ',s1,'s2 : ',s2)"
   ]
  },
  {
   "cell_type": "code",
   "execution_count": 17,
   "metadata": {},
   "outputs": [
    {
     "name": "stdout",
     "output_type": "stream",
     "text": [
      "12 11 22 8\n",
      "13.25\n"
     ]
    }
   ],
   "source": [
    "# a2 : generate 4 random from 0-26 and print its average\n",
    "import random\n",
    "n1 = random.randint(0,26)\n",
    "n2 = random.randint(0,26)\n",
    "n3 = random.randint(0,26)\n",
    "n4 = random.randint(0,26)\n",
    "print(n1,n2,n3,n4)\n",
    "print((n1+n2+n3+n4)/4)"
   ]
  },
  {
   "cell_type": "code",
   "execution_count": 41,
   "metadata": {},
   "outputs": [
    {
     "name": "stdout",
     "output_type": "stream",
     "text": [
      "enter a string :  chetna\n",
      "6\n",
      "t\n"
     ]
    }
   ],
   "source": [
    "# a3 : generate random alphabet\n",
    "import random\n",
    "s = input('enter a string :  ')\n",
    "l = len(s)\n",
    "print(l)\n",
    "r = random.randint(0,l)\n",
    "print(s[r])"
   ]
  },
  {
   "cell_type": "code",
   "execution_count": 45,
   "metadata": {},
   "outputs": [
    {
     "name": "stdout",
     "output_type": "stream",
     "text": [
      "120.0\n"
     ]
    }
   ],
   "source": [
    "# a4 : WAF get_si() takes p,r,t as arguments and return si\n",
    "\n",
    "def get_si(p,r,t):\n",
    "    return (p*r*t)/100\n",
    "\n",
    "print(get_si(1000,4,3))"
   ]
  },
  {
   "cell_type": "code",
   "execution_count": 56,
   "metadata": {},
   "outputs": [
    {
     "name": "stdout",
     "output_type": "stream",
     "text": [
      "Simple Intrest :  120.0\n",
      "Amount :  12000.0\n"
     ]
    }
   ],
   "source": [
    "# a5 : WAF get_amount() takes p,r,t as arguments and return total amount using get_si() and calculate si.take r=10 t=1 as default\n",
    "\n",
    "def get_amount(p,n,r = 10,t = 1) :\n",
    "    return p*(1 + r/n)*n*t\n",
    "\n",
    "\n",
    "def get_si(p,r,t):\n",
    "    return (p*r*t)/100\n",
    "\n",
    "print('Simple Intrest : ',get_si(1000,4,3))\n",
    "print('Amount : ',get_amount(1000,2))"
   ]
  },
  {
   "cell_type": "code",
   "execution_count": 59,
   "metadata": {},
   "outputs": [
    {
     "name": "stdout",
     "output_type": "stream",
     "text": [
      "Enter principle : 333\n",
      "Enter number of times intrest is compounded per year : 2\n",
      "Enter rate : 2\n",
      "Enter time : 2\n",
      "Compound Intrest :  2664.0\n"
     ]
    }
   ],
   "source": [
    "# a6 : WAP get_ci() that takes p,r,t as arguments and returns compound intrest \n",
    "\n",
    "def get_ci(p,n,r,t) :\n",
    "    return p*(1+r/n)*n*t\n",
    "p = float(input('Enter principle : '))\n",
    "n = float(input('Enter number of times intrest is compounded per year : '))\n",
    "r = float(input('Enter rate : '))\n",
    "t = float(input('Enter time : '))\n",
    "print('Compound Intrest : ', get_ci(p,n,r,t))\n"
   ]
  },
  {
   "cell_type": "code",
   "execution_count": 94,
   "metadata": {},
   "outputs": [
    {
     "name": "stdout",
     "output_type": "stream",
     "text": [
      "Enter dividend : 4\n",
      "Enter divisor : 2\n",
      "(2.0, 0)\n"
     ]
    }
   ],
   "source": [
    "# a7 : WAF get_q_r() take 2 numbers as parametes and return quotient and reminder in the form of a tuple \n",
    "\n",
    "def get_q_r(dividend,divisor) :\n",
    "    quotient = dividend / divisor\n",
    "    remainder = dividend % divisor\n",
    "    return quotient, remainder\n",
    "\n",
    "n1 = int(input('Enter dividend : '))\n",
    "n2 = int(input('Enter divisor : '))\n",
    "t = tuple(get_q_r(n1,n2))\n",
    "print(t)    "
   ]
  },
  {
   "cell_type": "code",
   "execution_count": 68,
   "metadata": {},
   "outputs": [
    {
     "name": "stdout",
     "output_type": "stream",
     "text": [
      "Enter height : 4\n",
      "Enter base : 3\n",
      "Hypotenuse :  5.0\n"
     ]
    }
   ],
   "source": [
    "# a8 : WAP to find length of hypotenuse of a right angled triangle, input height and base from user \n",
    "\n",
    "h = float(input('Enter height : '))\n",
    "b = float(input('Enter base : '))\n",
    "hypo = (h*h) + (b*b)\n",
    "hypo = hypo**0.5\n",
    "print('Hypotenuse : ',hypo)\n"
   ]
  },
  {
   "cell_type": "code",
   "execution_count": 70,
   "metadata": {},
   "outputs": [
    {
     "name": "stdout",
     "output_type": "stream",
     "text": [
      "Enter seconds : 10000\n",
      "Day :  0\n",
      "Hours :  2\n",
      "Minutes :  46\n",
      "Seconds :  40\n"
     ]
    }
   ],
   "source": [
    "#  a9 : input number in seconds and print in days, hours, minutes, seconds \n",
    "\n",
    "sec = int(input('Enter seconds : '))\n",
    "day = sec // (24 * 3600)\n",
    "sec = sec % (24 * 3600)\n",
    "hour = sec // 3600\n",
    "sec %= 3600\n",
    "minutes = sec // 60\n",
    "sec %= 60\n",
    "seconds = sec\n",
    "print('Day : ',day)\n",
    "print('Hours : ',hour)\n",
    "print('Minutes : ',minutes)\n",
    "print('Seconds : ',seconds)"
   ]
  },
  {
   "cell_type": "code",
   "execution_count": 89,
   "metadata": {},
   "outputs": [
    {
     "name": "stdout",
     "output_type": "stream",
     "text": [
      "3.7.3\n"
     ]
    }
   ],
   "source": [
    "# a10 : check python version \n",
    "\n",
    "from platform import python_version\n",
    "print(python_version())"
   ]
  },
  {
   "cell_type": "code",
   "execution_count": 91,
   "metadata": {},
   "outputs": [
    {
     "name": "stdout",
     "output_type": "stream",
     "text": [
      "x :  2  y :  -2\n"
     ]
    }
   ],
   "source": [
    "# a11 : find output\n",
    "\n",
    "x = 2\n",
    "x *= 3\n",
    "x = x % 4\n",
    "y = -x\n",
    "print('x : ',x,' y : ',y)"
   ]
  },
  {
   "cell_type": "code",
   "execution_count": 3,
   "metadata": {},
   "outputs": [
    {
     "name": "stdout",
     "output_type": "stream",
     "text": [
      "None\n"
     ]
    }
   ],
   "source": [
    "# a12 : find output\n",
    "\n",
    "def funct() :\n",
    "    pass # if we don't want to write anything inside function pass is used as if we don't write anything it gives syntax error\n",
    "print(funct())"
   ]
  },
  {
   "cell_type": "code",
   "execution_count": null,
   "metadata": {},
   "outputs": [],
   "source": []
  },
  {
   "cell_type": "code",
   "execution_count": null,
   "metadata": {},
   "outputs": [],
   "source": []
  },
  {
   "cell_type": "code",
   "execution_count": null,
   "metadata": {},
   "outputs": [],
   "source": []
  }
 ],
 "metadata": {
  "kernelspec": {
   "display_name": "Python 3",
   "language": "python",
   "name": "python3"
  },
  "language_info": {
   "codemirror_mode": {
    "name": "ipython",
    "version": 3
   },
   "file_extension": ".py",
   "mimetype": "text/x-python",
   "name": "python",
   "nbconvert_exporter": "python",
   "pygments_lexer": "ipython3",
   "version": "3.7.3"
  }
 },
 "nbformat": 4,
 "nbformat_minor": 2
}
